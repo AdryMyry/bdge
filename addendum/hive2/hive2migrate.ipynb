{
 "cells": [
  {
   "cell_type": "code",
   "execution_count": null,
   "metadata": {
    "collapsed": true
   },
   "outputs": [],
   "source": [
    "%%bash\n",
    "sudo rm -rf meta*\n",
    "rm -rf apache-hive*\n",
    "cd ~\n",
    "wget http://ftp.rediris.es/mirror/Apache/hive/hive-2.1.1/apache-hive-2.1.1-bin.tar.gz\n",
    "tar zxvf apache-hive-2.1.1-bin.tar.gz\n",
    "ln -sf apache-hive-2.1.1-bin hive"
   ]
  },
  {
   "cell_type": "code",
   "execution_count": null,
   "metadata": {
    "collapsed": false
   },
   "outputs": [],
   "source": [
    "%%bash\n",
    "rm ~/start-hive.sh\n",
    "rm ~/hadoop/etc/hadoop/core-site.xml\n",
    "wget http://neuromancer.inf.um.es:8080/core-site.xml -O ~/hadoop/etc/hadoop/core-site.xml\n",
    "wget http://neuromancer.inf.um.es:8080/start-hive.sh -O ~/start-hive.sh\n",
    "chmod a+x ~/start-hive.sh"
   ]
  }
 ],
 "metadata": {
  "kernelspec": {
   "display_name": "Python 2",
   "language": "python",
   "name": "python2"
  },
  "language_info": {
   "codemirror_mode": {
    "name": "ipython",
    "version": 2
   },
   "file_extension": ".py",
   "mimetype": "text/x-python",
   "name": "python",
   "nbconvert_exporter": "python",
   "pygments_lexer": "ipython2",
   "version": "2.7.10"
  }
 },
 "nbformat": 4,
 "nbformat_minor": 1
}

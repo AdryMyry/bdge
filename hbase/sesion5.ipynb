{
 "cells": [
  {
   "cell_type": "markdown",
   "metadata": {
    "collapsed": true
   },
   "source": [
    "# NoSQL (HBase) (sesión 5)"
   ]
  },
  {
   "cell_type": "markdown",
   "metadata": {},
   "source": [
    "![Image of HBase](http://hbase.apache.org/images/hbase_logo_with_orca_large.png)\n",
    "\n",
    "Esta hoja muestra cómo acceder a bases de datos HBase y también a conectar la salida con Jupyter.\n",
    "\n",
    "Se puede utilizar el *shell* propio de HBase en la máquina virtual llamando al programa:\n",
    "\n",
    "    $ hbase/bin/hbase shell\n",
    "\n",
    "La diferencia es que ese programa espera código Ruby y aquí trabajaremos con Python."
   ]
  },
  {
   "cell_type": "markdown",
   "metadata": {},
   "source": [
    "### Nota sobre la caída de RegionServers\n",
    "\n",
    "En este entorno con poca memoria son frecuentes las caídas de RegionServers. Sería conveniente:\n",
    "\n",
    "- dar a la memoria virtual al menos 3GB de memoria,\n",
    "- aumentar el tamaño del HEAP de los procesos de HBase, y\n",
    "- aumentar el tiempo de _timeout_ de Zookeeper.\n",
    "\n",
    "En la [documentación de HBase](http://hbase.apache.org/book.html#trouble.rs) dan unas recomendaciones, sobre todo, para carga inicial, como he realizado estos días para cargar las bases de datos de ejemplo:\n",
    "\n",
    "> Make sure you give plenty of RAM (in hbase-env.sh), the default of 1GB won’t be able to sustain long running imports.\n",
    ">\n",
    "> [...]\n",
    ">\n",
    "> If this is happening during an upload which only happens once (like initially loading all your data into HBase), consider bulk loading.\n",
    "\n",
    "Aunque no usamos _bulk loading_ para mostrar cómo se añaden datos desde Python (el _bulk loading_ hay que hacerlo en Java).\n",
    "\n",
    "Las caídas en los RegionServers pueden producirse por varias cuestiones: falta de memoria, timeout por la ejecución del GC de Java, etc. Estas caídas son aceptadas como normales por el sistema HBase, que continuará funcionando con el resto de RegionServers y aceptará un RegionServer que terminó abruptamente una vez reiniciado.\n",
    "\n",
    "En nuestra VM sólo hay un RegionServer, y se puede iniciar si cayó con el comando:\n",
    "\n",
    "    ~/hbase/bin/start-daemon.sh start regionserver\n",
    "\n",
    "El siguiente _script_ comprueba cada 30 segundos la salida de depuración del Máster de HBase, y si ve que no hay RegionServers, llama al script de reinicio del único RegionServer. El cliente continuará sin problemas después de unos segundos de inicialización. Al cabo del tiempo, los RegionServer que no funcionan se eliminan por HBase."
   ]
  },
  {
   "cell_type": "code",
   "execution_count": null,
   "metadata": {
    "collapsed": false
   },
   "outputs": [],
   "source": [
    "%%writefile restart-regionserver.sh\n",
    "#! /bin/sh\n",
    "while true ; do\n",
    "\tns=`curl -s http://localhost:60010/jmx | grep numRegionServers | tr -cd [0-9]`\n",
    "\ttest -z \"$ns\" || test $ns -gt 0 || ~/hbase/bin/hbase-daemon.sh start regionserver \n",
    "\tsleep 30 \n",
    "done\n"
   ]
  },
  {
   "cell_type": "code",
   "execution_count": null,
   "metadata": {
    "collapsed": true
   },
   "outputs": [],
   "source": [
    "!chmod a+x restart-regionserver.sh"
   ]
  },
  {
   "cell_type": "code",
   "execution_count": null,
   "metadata": {
    "collapsed": false,
    "scrolled": true
   },
   "outputs": [],
   "source": [
    "# Config\n",
    "%env DIR=/vagrant"
   ]
  },
  {
   "cell_type": "code",
   "execution_count": null,
   "metadata": {
    "collapsed": false
   },
   "outputs": [],
   "source": [
    "!~/start-hbase.sh"
   ]
  },
  {
   "cell_type": "code",
   "execution_count": null,
   "metadata": {
    "collapsed": false
   },
   "outputs": [],
   "source": [
    "from pprint import pprint as pp\n",
    "import pandas as pd\n",
    "import matplotlib.pyplot as plt\n",
    "import matplotlib\n",
    "\n",
    "%matplotlib inline\n",
    "matplotlib.style.use('ggplot')"
   ]
  },
  {
   "cell_type": "markdown",
   "metadata": {},
   "source": [
    "Usaremos la librería `pymongo` para python. La cargamos a continuación."
   ]
  },
  {
   "cell_type": "code",
   "execution_count": null,
   "metadata": {
    "collapsed": false
   },
   "outputs": [],
   "source": [
    "import happybase\n",
    "\n",
    "host = '127.0.0.1'\n",
    "connection = happybase.Connection(host)\n",
    "connection.tables()"
   ]
  },
  {
   "cell_type": "code",
   "execution_count": null,
   "metadata": {
    "collapsed": false
   },
   "outputs": [],
   "source": [
    "%%bash\n",
    "(test -e $DIR/Posts.csv && echo \"Ya descargado\") || (\\\n",
    "(wget http://neuromancer.inf.um.es:8080/es.stackoverflow/Posts.csv.gz -O - 2>/dev/null | gunzip > $DIR/Posts.csv) \\\n",
    "  && echo OK)"
   ]
  },
  {
   "cell_type": "code",
   "execution_count": null,
   "metadata": {
    "collapsed": false
   },
   "outputs": [],
   "source": [
    "%%bash\n",
    "~/hadoop/bin/hadoop fs -copyFromLocal $DIR/Posts.csv hdfs:///"
   ]
  },
  {
   "cell_type": "code",
   "execution_count": null,
   "metadata": {
    "collapsed": false
   },
   "outputs": [],
   "source": [
    "%%bash\n",
    "~/hbase/bin/hbase org.apache.hadoop.hbase.mapreduce.ImportTsv -Dimporttsv.separator=, -Dimporttsv.columns=HBASE_ROW_KEY,test:ParentId,test:Body,test:ViewCount,test:LastEditorDisplayName,test:ClosedDate,test:Title,test:LastEditorUserId,test:LastActivityDate,test:LastEditDate,test:AnswerCount,test:CommentCount,test:AcceptedAnswerId,test:Score,test:OwnerDisplayName,test:PostTypeId,test:OwnerUserId,test:Tags,test:CreationDate,test:FavoriteCount,test:CommunityOwnedDate posts hdfs:///Posts.csv"
   ]
  },
  {
   "cell_type": "code",
   "execution_count": null,
   "metadata": {
    "collapsed": false
   },
   "outputs": [],
   "source": [
    "%%bash\n",
    "(test -e $DIR/Users.csv && echo \"Ya descargado\") || (\\\n",
    "(wget http://neuromancer.inf.um.es:8080/es.stackoverflow/Users.csv.gz -O - 2>/dev/null | gunzip > $DIR/Users.csv) \\\n",
    "  && echo OK)"
   ]
  },
  {
   "cell_type": "code",
   "execution_count": null,
   "metadata": {
    "collapsed": false
   },
   "outputs": [],
   "source": [
    "%%bash\n",
    "(test -e $DIR/Tags.csv && echo \"Ya descargado\") || (\\\n",
    "(wget http://neuromancer.inf.um.es:8080/es.stackoverflow/Tags.csv.gz -O - 2>/dev/null | gunzip > $DIR/Tags.csv) \\\n",
    "  && echo OK)"
   ]
  },
  {
   "cell_type": "code",
   "execution_count": null,
   "metadata": {
    "collapsed": false
   },
   "outputs": [],
   "source": [
    "%%bash\n",
    "(test -e $DIR/Comments.csv && echo \"Ya descargado\") || (\\\n",
    "(wget http://neuromancer.inf.um.es:8080/es.stackoverflow/Comments.csv.gz -O - 2>/dev/null | gunzip > $DIR/Comments.csv) \\\n",
    "  && echo OK)"
   ]
  },
  {
   "cell_type": "code",
   "execution_count": null,
   "metadata": {
    "collapsed": false
   },
   "outputs": [],
   "source": [
    "%%bash\n",
    "(test -e $DIR/Votes.csv && echo \"Ya descargado\") || (\\\n",
    "(wget http://neuromancer.inf.um.es:8080/es.stackoverflow/Votes.csv.gz -O - 2>/dev/null | gunzip > $DIR/Votes.csv) \\\n",
    "  && echo OK)"
   ]
  },
  {
   "cell_type": "markdown",
   "metadata": {},
   "source": [
    "## EJERCICIO: Con HBase, mostrar las consultas RQ1 a RQ4 de la sesión 2"
   ]
  }
 ],
 "metadata": {
  "kernelspec": {
   "display_name": "Python 2",
   "language": "python",
   "name": "python2"
  },
  "language_info": {
   "codemirror_mode": {
    "name": "ipython",
    "version": 2
   },
   "file_extension": ".py",
   "mimetype": "text/x-python",
   "name": "python",
   "nbconvert_exporter": "python",
   "pygments_lexer": "ipython2",
   "version": "2.7.10"
  }
 },
 "nbformat": 4,
 "nbformat_minor": 1
}

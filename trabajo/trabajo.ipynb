{
 "cells": [
  {
   "cell_type": "markdown",
   "metadata": {
    "collapsed": true
   },
   "source": [
    "# Tecnologías Serverless"
   ]
  },
  {
   "cell_type": "markdown",
   "metadata": {},
   "source": [
    "\n",
    "![Serverless](https://www.silversands.co.uk/wp-content/uploads/Serverless-Computing.png)\n",
    "\n",
    "\n",
    "Esta hoja muestra reune toda la información recopilada para la realización del trabajo sobre tecnologías serverless desarrollado en el marco de la asignatura Bases de Datos a Gran Escala.\n",
    "\n",
    "Entre los contenidos del mismo encontramos:\n",
    "- Carga de los datos de Stackoverflow en una base de datos Mongodb\n",
    "- Descripción del modo de funcionamiento de los servicios serverless\n",
    "- Pasos de uso para la ejecución de código Python en AWS Lambda y Azure Function\n",
    "- Despliegue de código para consultas de la sesión 2 en AWS Lambda\n",
    "- Replicación de las consultas de la sesión 2 desde el notebook\n",
    "- Comparativa entre la ejecución del código en AWS Lambda frente al notebook\n",
    "\n",
    "En primer lugar, instalamos las dependencias que necesitaremos más adelante."
   ]
  },
  {
   "cell_type": "code",
   "execution_count": 2,
   "metadata": {
    "scrolled": false
   },
   "outputs": [
    {
     "name": "stdout",
     "output_type": "stream",
     "text": [
      "Collecting pymongo\n",
      "\u001b[?25l  Downloading https://files.pythonhosted.org/packages/b1/45/5440555b901a8416196fbf2499c4678ef74de8080c007104107a8cfdda20/pymongo-3.7.2-cp36-cp36m-manylinux1_x86_64.whl (408kB)\n",
      "\u001b[K    100% |████████████████████████████████| 409kB 2.9MB/s ta 0:00:01\n",
      "\u001b[?25hCollecting requests\n",
      "\u001b[?25l  Downloading https://files.pythonhosted.org/packages/7d/e3/20f3d364d6c8e5d2353c72a67778eb189176f08e873c9900e10c0287b84b/requests-2.21.0-py2.py3-none-any.whl (57kB)\n",
      "\u001b[K    100% |████████████████████████████████| 61kB 4.9MB/s ta 0:00:01\n",
      "\u001b[?25hRequirement already satisfied, skipping upgrade: idna<2.9,>=2.5 in /opt/conda/lib/python3.6/site-packages (from requests) (2.7)\n",
      "Requirement already satisfied, skipping upgrade: chardet<3.1.0,>=3.0.2 in /opt/conda/lib/python3.6/site-packages (from requests) (3.0.4)\n",
      "Requirement already satisfied, skipping upgrade: urllib3<1.25,>=1.21.1 in /opt/conda/lib/python3.6/site-packages (from requests) (1.23)\n",
      "Requirement already satisfied, skipping upgrade: certifi>=2017.4.17 in /opt/conda/lib/python3.6/site-packages (from requests) (2018.10.15)\n",
      "Installing collected packages: pymongo, requests\n",
      "  Found existing installation: requests 2.20.1\n",
      "    Uninstalling requests-2.20.1:\n",
      "      Successfully uninstalled requests-2.20.1\n",
      "Successfully installed pymongo-3.7.2 requests-2.21.0\n"
     ]
    }
   ],
   "source": [
    "!pip install --upgrade pymongo requests"
   ]
  },
  {
   "cell_type": "markdown",
   "metadata": {},
   "source": [
    "Importamos las librerías que utilizaremos."
   ]
  },
  {
   "cell_type": "code",
   "execution_count": 4,
   "metadata": {
    "scrolled": false
   },
   "outputs": [],
   "source": [
    "import pandas as pd\n",
    "import numpy as np\n",
    "import matplotlib.pyplot as plt\n",
    "import matplotlib\n",
    "\n",
    "import pymongo\n",
    "from pymongo import MongoClient\n",
    "from bson.code import Code\n",
    "\n",
    "import timeit\n",
    "import requests\n",
    "\n",
    "%matplotlib inline\n",
    "matplotlib.style.use('ggplot')"
   ]
  },
  {
   "cell_type": "markdown",
   "metadata": {},
   "source": [
    "## Carga de los datos de Stackoverflow en una base de datos Mongodb\n",
    "\n",
    "Nos descargamos los datos desde el servidor neuromancer.inf.um.es"
   ]
  },
  {
   "cell_type": "code",
   "execution_count": 6,
   "metadata": {
    "collapsed": true,
    "scrolled": false
   },
   "outputs": [],
   "source": [
    "%%bash\n",
    "file=../Posts.csv\n",
    "test -e $file || wget http://neuromancer.inf.um.es:8080/es.stackoverflow/`basename ${file}`.gz -O - 2>/dev/null | gunzip > $file"
   ]
  },
  {
   "cell_type": "code",
   "execution_count": 7,
   "metadata": {
    "collapsed": true,
    "scrolled": false
   },
   "outputs": [],
   "source": [
    "%%bash\n",
    "file=../Users.csv\n",
    "test -e $file || wget http://neuromancer.inf.um.es:8080/es.stackoverflow/`basename ${file}`.gz -O - 2>/dev/null | gunzip > $file"
   ]
  },
  {
   "cell_type": "markdown",
   "metadata": {},
   "source": [
    "Instalamos el paquete mongodb-clients que contiene la utilidad mongoimport que utilizamos para importar los datos."
   ]
  },
  {
   "cell_type": "code",
   "execution_count": 21,
   "metadata": {
    "scrolled": true
   },
   "outputs": [
    {
     "name": "stdout",
     "output_type": "stream",
     "text": [
      "Get:1 http://security.ubuntu.com/ubuntu bionic-security InRelease [83.2 kB]\n",
      "Get:2 http://archive.ubuntu.com/ubuntu bionic InRelease [242 kB]\n",
      "Get:3 http://archive.ubuntu.com/ubuntu bionic-updates InRelease [88.7 kB]\n",
      "Get:4 http://archive.ubuntu.com/ubuntu bionic-backports InRelease [74.6 kB]\n",
      "Get:5 http://security.ubuntu.com/ubuntu bionic-security/universe Sources [32.5 kB]\n",
      "Get:6 http://security.ubuntu.com/ubuntu bionic-security/multiverse amd64 Packages [1,365 B]\n",
      "Get:7 http://security.ubuntu.com/ubuntu bionic-security/main amd64 Packages [303 kB]\n",
      "Get:8 http://security.ubuntu.com/ubuntu bionic-security/universe amd64 Packages [135 kB]\n",
      "Get:9 http://archive.ubuntu.com/ubuntu bionic/universe Sources [11.5 MB]\n",
      "Get:10 http://archive.ubuntu.com/ubuntu bionic/universe amd64 Packages [11.3 MB]\n",
      "Get:11 http://archive.ubuntu.com/ubuntu bionic/multiverse amd64 Packages [186 kB]\n",
      "Get:12 http://archive.ubuntu.com/ubuntu bionic/main amd64 Packages [1,344 kB]\n",
      "Get:13 http://archive.ubuntu.com/ubuntu bionic/restricted amd64 Packages [13.5 kB]\n",
      "Get:14 http://archive.ubuntu.com/ubuntu bionic-updates/universe Sources [168 kB]\n",
      "Get:15 http://archive.ubuntu.com/ubuntu bionic-updates/restricted amd64 Packages [10.7 kB]\n",
      "Get:16 http://archive.ubuntu.com/ubuntu bionic-updates/main amd64 Packages [628 kB]\n",
      "Get:17 http://archive.ubuntu.com/ubuntu bionic-updates/universe amd64 Packages [903 kB]\n",
      "Get:18 http://archive.ubuntu.com/ubuntu bionic-updates/multiverse amd64 Packages [6,933 B]\n",
      "Get:19 http://archive.ubuntu.com/ubuntu bionic-backports/universe amd64 Packages [3,655 B]\n",
      "Fetched 27.1 MB in 6s (4,855 kB/s)\n",
      "Reading package lists...\n",
      "Reading package lists...\n",
      "Building dependency tree...\n",
      "Reading state information...\n",
      "The following additional packages will be installed:\n",
      "  libboost-filesystem1.65.1 libboost-iostreams1.65.1\n",
      "  libboost-program-options1.65.1 libboost-system1.65.1 libgoogle-perftools4\n",
      "  libpcap0.8 libpcrecpp0v5 libstemmer0d libtcmalloc-minimal4 libunwind8\n",
      "  libyaml-cpp0.5v5 mongo-tools\n",
      "The following NEW packages will be installed:\n",
      "  libboost-filesystem1.65.1 libboost-iostreams1.65.1\n",
      "  libboost-program-options1.65.1 libboost-system1.65.1 libgoogle-perftools4\n",
      "  libpcap0.8 libpcrecpp0v5 libstemmer0d libtcmalloc-minimal4 libunwind8\n",
      "  libyaml-cpp0.5v5 mongo-tools mongodb-clients\n",
      "0 upgraded, 13 newly installed, 0 to remove and 31 not upgraded.\n",
      "Need to get 33.4 MB of archives.\n",
      "After this operation, 145 MB of additional disk space will be used.\n",
      "Get:1 http://archive.ubuntu.com/ubuntu bionic/main amd64 libpcap0.8 amd64 1.8.1-6ubuntu1 [118 kB]\n",
      "Get:2 http://archive.ubuntu.com/ubuntu bionic/main amd64 libboost-system1.65.1 amd64 1.65.1+dfsg-0ubuntu5 [10.5 kB]\n",
      "Get:3 http://archive.ubuntu.com/ubuntu bionic/main amd64 libboost-filesystem1.65.1 amd64 1.65.1+dfsg-0ubuntu5 [40.3 kB]\n",
      "Get:4 http://archive.ubuntu.com/ubuntu bionic/main amd64 libboost-iostreams1.65.1 amd64 1.65.1+dfsg-0ubuntu5 [29.2 kB]\n",
      "Get:5 http://archive.ubuntu.com/ubuntu bionic/main amd64 libboost-program-options1.65.1 amd64 1.65.1+dfsg-0ubuntu5 [137 kB]\n",
      "Get:6 http://archive.ubuntu.com/ubuntu bionic/main amd64 libtcmalloc-minimal4 amd64 2.5-2.2ubuntu3 [91.6 kB]\n",
      "Get:7 http://archive.ubuntu.com/ubuntu bionic/main amd64 libunwind8 amd64 1.2.1-8 [47.5 kB]\n",
      "Get:8 http://archive.ubuntu.com/ubuntu bionic/main amd64 libgoogle-perftools4 amd64 2.5-2.2ubuntu3 [190 kB]\n",
      "Get:9 http://archive.ubuntu.com/ubuntu bionic/main amd64 libpcrecpp0v5 amd64 2:8.39-9 [15.3 kB]\n",
      "Get:10 http://archive.ubuntu.com/ubuntu bionic/main amd64 libstemmer0d amd64 0+svn585-1build1 [62.5 kB]\n",
      "Get:11 http://archive.ubuntu.com/ubuntu bionic/universe amd64 libyaml-cpp0.5v5 amd64 0.5.2-4ubuntu1 [150 kB]\n",
      "Get:12 http://archive.ubuntu.com/ubuntu bionic/universe amd64 mongo-tools amd64 3.6.3-0ubuntu1 [12.3 MB]\n",
      "Get:13 http://archive.ubuntu.com/ubuntu bionic/universe amd64 mongodb-clients amd64 1:3.6.3-0ubuntu1 [20.2 MB]\n",
      "Fetched 33.4 MB in 5s (7,418 kB/s)\n",
      "Selecting previously unselected package libpcap0.8:amd64.\r\n",
      "(Reading database ... \r",
      "(Reading database ... 5%\r",
      "(Reading database ... 10%\r",
      "(Reading database ... 15%\r",
      "(Reading database ... 20%\r",
      "(Reading database ... 25%\r",
      "(Reading database ... 30%\r",
      "(Reading database ... 35%\r",
      "(Reading database ... 40%\r",
      "(Reading database ... 45%\r",
      "(Reading database ... 50%\r",
      "(Reading database ... 55%\r",
      "(Reading database ... 60%\r",
      "(Reading database ... 65%\r",
      "(Reading database ... 70%\r",
      "(Reading database ... 75%\r",
      "(Reading database ... 80%\r",
      "(Reading database ... 85%\r",
      "(Reading database ... 90%\r",
      "(Reading database ... 95%\r",
      "(Reading database ... 100%\r",
      "(Reading database ... 117249 files and directories currently installed.)\r\n",
      "Preparing to unpack .../00-libpcap0.8_1.8.1-6ubuntu1_amd64.deb ...\r\n",
      "Unpacking libpcap0.8:amd64 (1.8.1-6ubuntu1) ...\r\n",
      "Selecting previously unselected package libboost-system1.65.1:amd64.\r\n",
      "Preparing to unpack .../01-libboost-system1.65.1_1.65.1+dfsg-0ubuntu5_amd64.deb ...\r\n",
      "Unpacking libboost-system1.65.1:amd64 (1.65.1+dfsg-0ubuntu5) ...\r\n",
      "Selecting previously unselected package libboost-filesystem1.65.1:amd64.\r\n",
      "Preparing to unpack .../02-libboost-filesystem1.65.1_1.65.1+dfsg-0ubuntu5_amd64.deb ...\r\n",
      "Unpacking libboost-filesystem1.65.1:amd64 (1.65.1+dfsg-0ubuntu5) ...\r\n",
      "Selecting previously unselected package libboost-iostreams1.65.1:amd64.\r\n",
      "Preparing to unpack .../03-libboost-iostreams1.65.1_1.65.1+dfsg-0ubuntu5_amd64.deb ...\r\n",
      "Unpacking libboost-iostreams1.65.1:amd64 (1.65.1+dfsg-0ubuntu5) ...\r\n",
      "Selecting previously unselected package libboost-program-options1.65.1:amd64.\r\n",
      "Preparing to unpack .../04-libboost-program-options1.65.1_1.65.1+dfsg-0ubuntu5_amd64.deb ...\r\n",
      "Unpacking libboost-program-options1.65.1:amd64 (1.65.1+dfsg-0ubuntu5) ...\r\n",
      "Selecting previously unselected package libtcmalloc-minimal4.\r\n",
      "Preparing to unpack .../05-libtcmalloc-minimal4_2.5-2.2ubuntu3_amd64.deb ...\r\n",
      "Unpacking libtcmalloc-minimal4 (2.5-2.2ubuntu3) ...\r\n",
      "Selecting previously unselected package libunwind8:amd64.\r\n",
      "Preparing to unpack .../06-libunwind8_1.2.1-8_amd64.deb ...\r\n",
      "Unpacking libunwind8:amd64 (1.2.1-8) ...\r\n",
      "Selecting previously unselected package libgoogle-perftools4.\r\n",
      "Preparing to unpack .../07-libgoogle-perftools4_2.5-2.2ubuntu3_amd64.deb ...\r\n",
      "Unpacking libgoogle-perftools4 (2.5-2.2ubuntu3) ...\r\n",
      "Selecting previously unselected package libpcrecpp0v5:amd64.\r\n",
      "Preparing to unpack .../08-libpcrecpp0v5_2%3a8.39-9_amd64.deb ...\r\n",
      "Unpacking libpcrecpp0v5:amd64 (2:8.39-9) ...\r\n",
      "Selecting previously unselected package libstemmer0d:amd64.\r\n",
      "Preparing to unpack .../09-libstemmer0d_0+svn585-1build1_amd64.deb ...\r\n",
      "Unpacking libstemmer0d:amd64 (0+svn585-1build1) ...\r\n",
      "Selecting previously unselected package libyaml-cpp0.5v5:amd64.\r\n",
      "Preparing to unpack .../10-libyaml-cpp0.5v5_0.5.2-4ubuntu1_amd64.deb ...\r\n",
      "Unpacking libyaml-cpp0.5v5:amd64 (0.5.2-4ubuntu1) ...\r\n",
      "Selecting previously unselected package mongo-tools.\r\n",
      "Preparing to unpack .../11-mongo-tools_3.6.3-0ubuntu1_amd64.deb ...\r\n",
      "Unpacking mongo-tools (3.6.3-0ubuntu1) ...\r\n",
      "Selecting previously unselected package mongodb-clients.\r\n",
      "Preparing to unpack .../12-mongodb-clients_1%3a3.6.3-0ubuntu1_amd64.deb ...\r\n",
      "Unpacking mongodb-clients (1:3.6.3-0ubuntu1) ...\r\n",
      "Setting up libboost-iostreams1.65.1:amd64 (1.65.1+dfsg-0ubuntu5) ...\r\n",
      "Setting up libstemmer0d:amd64 (0+svn585-1build1) ...\r\n",
      "Setting up libboost-system1.65.1:amd64 (1.65.1+dfsg-0ubuntu5) ...\r\n",
      "Setting up libtcmalloc-minimal4 (2.5-2.2ubuntu3) ...\r\n",
      "Setting up libunwind8:amd64 (1.2.1-8) ...\r\n",
      "Processing triggers for libc-bin (2.27-3ubuntu1) ...\r\n",
      "Setting up libpcrecpp0v5:amd64 (2:8.39-9) ...\r\n",
      "Setting up libyaml-cpp0.5v5:amd64 (0.5.2-4ubuntu1) ...\r\n",
      "Setting up libboost-program-options1.65.1:amd64 (1.65.1+dfsg-0ubuntu5) ...\r\n",
      "Setting up libpcap0.8:amd64 (1.8.1-6ubuntu1) ...\r\n",
      "Setting up libboost-filesystem1.65.1:amd64 (1.65.1+dfsg-0ubuntu5) ...\r\n",
      "Setting up libgoogle-perftools4 (2.5-2.2ubuntu3) ...\r\n",
      "Setting up mongo-tools (3.6.3-0ubuntu1) ...\r\n",
      "Setting up mongodb-clients (1:3.6.3-0ubuntu1) ...\r\n",
      "Processing triggers for libc-bin (2.27-3ubuntu1) ...\r\n"
     ]
    },
    {
     "name": "stderr",
     "output_type": "stream",
     "text": [
      "debconf: delaying package configuration, since apt-utils is not installed\n"
     ]
    }
   ],
   "source": [
    "%%bash\n",
    "sudo apt-get update\n",
    "sudo apt-get install -y mongodb-clients"
   ]
  },
  {
   "cell_type": "markdown",
   "metadata": {},
   "source": [
    "Importación de los ficheros CSV utilizando mongoimport."
   ]
  },
  {
   "cell_type": "code",
   "execution_count": 25,
   "metadata": {
    "scrolled": true
   },
   "outputs": [
    {
     "name": "stderr",
     "output_type": "stream",
     "text": [
      "2019-01-14T13:03:26.097+0000\tconnected to: ec2-3-82-61-111.compute-1.amazonaws.com\n",
      "2019-01-14T13:03:26.229+0000\tdropping: stackoverflow.posts\n",
      "2019-01-14T13:03:28.637+0000\t[........................] stackoverflow.posts\t1.40MB/134MB (1.0%)\n",
      "2019-01-14T13:03:31.637+0000\t[........................] stackoverflow.posts\t1.40MB/134MB (1.0%)\n",
      "2019-01-14T13:03:34.636+0000\t[........................] stackoverflow.posts\t2.73MB/134MB (2.0%)\n",
      "2019-01-14T13:03:37.637+0000\t[........................] stackoverflow.posts\t4.22MB/134MB (3.2%)\n",
      "2019-01-14T13:03:40.637+0000\t[........................] stackoverflow.posts\t4.22MB/134MB (3.2%)\n",
      "2019-01-14T13:03:43.636+0000\t[#.......................] stackoverflow.posts\t5.75MB/134MB (4.3%)\n",
      "2019-01-14T13:03:46.636+0000\t[#.......................] stackoverflow.posts\t5.75MB/134MB (4.3%)\n",
      "2019-01-14T13:03:49.636+0000\t[#.......................] stackoverflow.posts\t7.37MB/134MB (5.5%)\n",
      "2019-01-14T13:03:52.637+0000\t[#.......................] stackoverflow.posts\t7.37MB/134MB (5.5%)\n",
      "2019-01-14T13:03:55.637+0000\t[#.......................] stackoverflow.posts\t9.14MB/134MB (6.8%)\n",
      "2019-01-14T13:03:58.601+0000\t[#.......................] stackoverflow.posts\t9.14MB/134MB (6.8%)\n",
      "2019-01-14T13:04:01.603+0000\t[#.......................] stackoverflow.posts\t10.9MB/134MB (8.1%)\n",
      "2019-01-14T13:04:04.601+0000\t[#.......................] stackoverflow.posts\t10.9MB/134MB (8.1%)\n",
      "2019-01-14T13:04:07.601+0000\t[##......................] stackoverflow.posts\t12.5MB/134MB (9.4%)\n",
      "2019-01-14T13:04:10.601+0000\t[##......................] stackoverflow.posts\t12.5MB/134MB (9.4%)\n",
      "2019-01-14T13:04:13.601+0000\t[##......................] stackoverflow.posts\t14.1MB/134MB (10.5%)\n",
      "2019-01-14T13:04:16.601+0000\t[##......................] stackoverflow.posts\t14.1MB/134MB (10.5%)\n",
      "2019-01-14T13:04:19.601+0000\t[##......................] stackoverflow.posts\t15.8MB/134MB (11.8%)\n",
      "2019-01-14T13:04:22.603+0000\t[##......................] stackoverflow.posts\t15.8MB/134MB (11.8%)\n",
      "2019-01-14T13:04:25.601+0000\t[###.....................] stackoverflow.posts\t17.6MB/134MB (13.1%)\n",
      "2019-01-14T13:04:28.565+0000\t[###.....................] stackoverflow.posts\t17.6MB/134MB (13.1%)\n",
      "2019-01-14T13:04:31.565+0000\t[###.....................] stackoverflow.posts\t19.1MB/134MB (14.3%)\n",
      "2019-01-14T13:04:34.569+0000\t[###.....................] stackoverflow.posts\t20.6MB/134MB (15.4%)\n",
      "2019-01-14T13:04:37.567+0000\t[###.....................] stackoverflow.posts\t20.6MB/134MB (15.4%)\n",
      "2019-01-14T13:04:40.565+0000\t[####....................] stackoverflow.posts\t22.4MB/134MB (16.8%)\n",
      "2019-01-14T13:04:43.565+0000\t[####....................] stackoverflow.posts\t22.4MB/134MB (16.8%)\n",
      "2019-01-14T13:04:46.565+0000\t[####....................] stackoverflow.posts\t24.1MB/134MB (18.0%)\n",
      "2019-01-14T13:04:49.565+0000\t[####....................] stackoverflow.posts\t24.1MB/134MB (18.0%)\n",
      "2019-01-14T13:04:52.567+0000\t[####....................] stackoverflow.posts\t25.9MB/134MB (19.4%)\n",
      "2019-01-14T13:04:55.565+0000\t[####....................] stackoverflow.posts\t25.9MB/134MB (19.4%)\n",
      "2019-01-14T13:04:58.529+0000\t[####....................] stackoverflow.posts\t27.6MB/134MB (20.7%)\n",
      "2019-01-14T13:05:01.529+0000\t[####....................] stackoverflow.posts\t27.6MB/134MB (20.7%)\n",
      "2019-01-14T13:05:04.529+0000\t[#####...................] stackoverflow.posts\t29.4MB/134MB (22.0%)\n",
      "2019-01-14T13:05:07.530+0000\t[#####...................] stackoverflow.posts\t29.4MB/134MB (22.0%)\n",
      "2019-01-14T13:05:10.530+0000\t[#####...................] stackoverflow.posts\t29.4MB/134MB (22.0%)\n",
      "2019-01-14T13:05:13.529+0000\t[#####...................] stackoverflow.posts\t31.2MB/134MB (23.3%)\n",
      "2019-01-14T13:05:16.530+0000\t[#####...................] stackoverflow.posts\t31.2MB/134MB (23.3%)\n",
      "2019-01-14T13:05:19.530+0000\t[#####...................] stackoverflow.posts\t33.0MB/134MB (24.7%)\n",
      "2019-01-14T13:05:22.530+0000\t[#####...................] stackoverflow.posts\t33.0MB/134MB (24.7%)\n",
      "2019-01-14T13:05:25.530+0000\t[######..................] stackoverflow.posts\t34.9MB/134MB (26.1%)\n",
      "2019-01-14T13:05:28.493+0000\t[######..................] stackoverflow.posts\t34.9MB/134MB (26.1%)\n",
      "2019-01-14T13:05:31.493+0000\t[######..................] stackoverflow.posts\t36.2MB/134MB (27.1%)\n",
      "2019-01-14T13:05:34.494+0000\t[######..................] stackoverflow.posts\t36.2MB/134MB (27.1%)\n",
      "2019-01-14T13:05:38.034+0000\t[######..................] stackoverflow.posts\t37.8MB/134MB (28.3%)\n",
      "2019-01-14T13:05:40.493+0000\t[#######.................] stackoverflow.posts\t39.5MB/134MB (29.5%)\n",
      "2019-01-14T13:05:43.496+0000\t[#######.................] stackoverflow.posts\t39.5MB/134MB (29.5%)\n",
      "2019-01-14T13:05:46.493+0000\t[#######.................] stackoverflow.posts\t40.9MB/134MB (30.6%)\n",
      "2019-01-14T13:05:49.494+0000\t[#######.................] stackoverflow.posts\t40.9MB/134MB (30.6%)\n",
      "2019-01-14T13:05:52.493+0000\t[#######.................] stackoverflow.posts\t42.6MB/134MB (31.9%)\n",
      "2019-01-14T13:05:55.493+0000\t[#######.................] stackoverflow.posts\t42.6MB/134MB (31.9%)\n",
      "2019-01-14T13:05:58.458+0000\t[#######.................] stackoverflow.posts\t44.1MB/134MB (33.1%)\n",
      "2019-01-14T13:06:01.462+0000\t[#######.................] stackoverflow.posts\t44.1MB/134MB (33.1%)\n",
      "2019-01-14T13:06:04.457+0000\t[########................] stackoverflow.posts\t45.9MB/134MB (34.3%)\n",
      "2019-01-14T13:06:07.458+0000\t[########................] stackoverflow.posts\t45.9MB/134MB (34.3%)\n",
      "2019-01-14T13:06:10.460+0000\t[########................] stackoverflow.posts\t47.8MB/134MB (35.8%)\n",
      "2019-01-14T13:06:13.460+0000\t[########................] stackoverflow.posts\t47.8MB/134MB (35.8%)\n",
      "2019-01-14T13:06:16.461+0000\t[########................] stackoverflow.posts\t49.6MB/134MB (37.1%)\n",
      "2019-01-14T13:06:19.460+0000\t[########................] stackoverflow.posts\t49.6MB/134MB (37.1%)\n",
      "2019-01-14T13:06:22.459+0000\t[#########...............] stackoverflow.posts\t51.5MB/134MB (38.6%)\n",
      "2019-01-14T13:06:25.459+0000\t[#########...............] stackoverflow.posts\t51.5MB/134MB (38.6%)\n",
      "2019-01-14T13:06:28.422+0000\t[#########...............] stackoverflow.posts\t53.3MB/134MB (39.9%)\n",
      "2019-01-14T13:06:31.421+0000\t[#########...............] stackoverflow.posts\t53.3MB/134MB (39.9%)\n",
      "2019-01-14T13:06:34.423+0000\t[#########...............] stackoverflow.posts\t53.3MB/134MB (39.9%)\n",
      "2019-01-14T13:06:37.421+0000\t[#########...............] stackoverflow.posts\t55.0MB/134MB (41.2%)\n",
      "2019-01-14T13:06:40.422+0000\t[#########...............] stackoverflow.posts\t55.0MB/134MB (41.2%)\n",
      "2019-01-14T13:06:43.423+0000\t[##########..............] stackoverflow.posts\t56.9MB/134MB (42.6%)\n",
      "2019-01-14T13:06:46.427+0000\t[##########..............] stackoverflow.posts\t56.9MB/134MB (42.6%)\n",
      "2019-01-14T13:06:49.423+0000\t[##########..............] stackoverflow.posts\t58.7MB/134MB (43.9%)\n",
      "2019-01-14T13:06:52.422+0000\t[##########..............] stackoverflow.posts\t58.7MB/134MB (43.9%)\n",
      "2019-01-14T13:06:55.422+0000\t[##########..............] stackoverflow.posts\t60.5MB/134MB (45.3%)\n",
      "2019-01-14T13:06:58.386+0000\t[##########..............] stackoverflow.posts\t60.5MB/134MB (45.3%)\n",
      "2019-01-14T13:07:01.385+0000\t[###########.............] stackoverflow.posts\t62.3MB/134MB (46.7%)\n",
      "2019-01-14T13:07:04.390+0000\t[###########.............] stackoverflow.posts\t62.3MB/134MB (46.7%)\n",
      "2019-01-14T13:07:07.386+0000\t[###########.............] stackoverflow.posts\t64.2MB/134MB (48.1%)\n",
      "2019-01-14T13:07:10.388+0000\t[###########.............] stackoverflow.posts\t64.2MB/134MB (48.1%)\n",
      "2019-01-14T13:07:13.386+0000\t[###########.............] stackoverflow.posts\t66.1MB/134MB (49.5%)\n",
      "2019-01-14T13:07:16.388+0000\t[###########.............] stackoverflow.posts\t66.1MB/134MB (49.5%)\n",
      "2019-01-14T13:07:19.388+0000\t[############............] stackoverflow.posts\t67.7MB/134MB (50.7%)\n",
      "2019-01-14T13:07:22.386+0000\t[############............] stackoverflow.posts\t67.7MB/134MB (50.7%)\n",
      "2019-01-14T13:07:25.385+0000\t[############............] stackoverflow.posts\t67.7MB/134MB (50.7%)\n",
      "2019-01-14T13:07:28.351+0000\t[############............] stackoverflow.posts\t69.5MB/134MB (52.0%)\n",
      "2019-01-14T13:07:31.352+0000\t[############............] stackoverflow.posts\t69.5MB/134MB (52.0%)\n",
      "2019-01-14T13:07:34.349+0000\t[############............] stackoverflow.posts\t71.4MB/134MB (53.4%)\n",
      "2019-01-14T13:07:37.350+0000\t[############............] stackoverflow.posts\t71.4MB/134MB (53.4%)\n",
      "2019-01-14T13:07:40.351+0000\t[#############...........] stackoverflow.posts\t73.2MB/134MB (54.8%)\n",
      "2019-01-14T13:07:43.349+0000\t[#############...........] stackoverflow.posts\t73.2MB/134MB (54.8%)\n",
      "2019-01-14T13:07:46.350+0000\t[#############...........] stackoverflow.posts\t75.0MB/134MB (56.2%)\n",
      "2019-01-14T13:07:49.350+0000\t[#############...........] stackoverflow.posts\t75.0MB/134MB (56.2%)\n",
      "2019-01-14T13:07:52.354+0000\t[#############...........] stackoverflow.posts\t76.9MB/134MB (57.5%)\n",
      "2019-01-14T13:07:55.352+0000\t[#############...........] stackoverflow.posts\t76.9MB/134MB (57.5%)\n",
      "2019-01-14T13:07:58.314+0000\t[#############...........] stackoverflow.posts\t77.1MB/134MB (57.7%)\n",
      "2019-01-14T13:08:01.316+0000\t[##############..........] stackoverflow.posts\t78.8MB/134MB (59.0%)\n",
      "2019-01-14T13:08:04.313+0000\t[##############..........] stackoverflow.posts\t78.8MB/134MB (59.0%)\n",
      "2019-01-14T13:08:07.315+0000\t[##############..........] stackoverflow.posts\t80.6MB/134MB (60.4%)\n",
      "2019-01-14T13:08:10.910+0000\t[##############..........] stackoverflow.posts\t80.6MB/134MB (60.4%)\n",
      "2019-01-14T13:08:13.314+0000\t[##############..........] stackoverflow.posts\t82.5MB/134MB (61.8%)\n",
      "2019-01-14T13:08:16.314+0000\t[##############..........] stackoverflow.posts\t82.5MB/134MB (61.8%)\n",
      "2019-01-14T13:08:19.314+0000\t[###############.........] stackoverflow.posts\t84.2MB/134MB (63.0%)\n",
      "2019-01-14T13:08:22.315+0000\t[###############.........] stackoverflow.posts\t84.2MB/134MB (63.0%)\n",
      "2019-01-14T13:08:25.315+0000\t[###############.........] stackoverflow.posts\t85.8MB/134MB (64.2%)\n",
      "2019-01-14T13:08:28.278+0000\t[###############.........] stackoverflow.posts\t85.8MB/134MB (64.2%)\n",
      "2019-01-14T13:08:31.279+0000\t[###############.........] stackoverflow.posts\t87.6MB/134MB (65.6%)\n",
      "2019-01-14T13:08:34.279+0000\t[###############.........] stackoverflow.posts\t87.6MB/134MB (65.6%)\n",
      "2019-01-14T13:08:37.278+0000\t[################........] stackoverflow.posts\t89.5MB/134MB (67.0%)\n",
      "2019-01-14T13:08:40.279+0000\t[################........] stackoverflow.posts\t89.5MB/134MB (67.0%)\n",
      "2019-01-14T13:08:43.278+0000\t[################........] stackoverflow.posts\t91.6MB/134MB (68.6%)\n",
      "2019-01-14T13:08:46.279+0000\t[################........] stackoverflow.posts\t91.6MB/134MB (68.6%)\n",
      "2019-01-14T13:08:49.278+0000\t[################........] stackoverflow.posts\t91.6MB/134MB (68.6%)\n",
      "2019-01-14T13:08:52.280+0000\t[################........] stackoverflow.posts\t93.4MB/134MB (69.9%)\n",
      "2019-01-14T13:08:55.283+0000\t[################........] stackoverflow.posts\t93.4MB/134MB (69.9%)\n",
      "2019-01-14T13:08:58.242+0000\t[#################.......] stackoverflow.posts\t95.4MB/134MB (71.4%)\n",
      "2019-01-14T13:09:01.243+0000\t[#################.......] stackoverflow.posts\t95.4MB/134MB (71.4%)\n",
      "2019-01-14T13:09:04.242+0000\t[#################.......] stackoverflow.posts\t97.2MB/134MB (72.8%)\n",
      "2019-01-14T13:09:07.246+0000\t[#################.......] stackoverflow.posts\t97.2MB/134MB (72.8%)\n",
      "2019-01-14T13:09:10.243+0000\t[#################.......] stackoverflow.posts\t99.1MB/134MB (74.2%)\n",
      "2019-01-14T13:09:13.245+0000\t[#################.......] stackoverflow.posts\t99.1MB/134MB (74.2%)\n",
      "2019-01-14T13:09:16.249+0000\t[##################......] stackoverflow.posts\t101MB/134MB (75.5%)\n",
      "2019-01-14T13:09:19.243+0000\t[##################......] stackoverflow.posts\t101MB/134MB (75.5%)\n",
      "2019-01-14T13:09:22.247+0000\t[##################......] stackoverflow.posts\t103MB/134MB (76.8%)\n",
      "2019-01-14T13:09:25.245+0000\t[##################......] stackoverflow.posts\t103MB/134MB (76.8%)\n",
      "2019-01-14T13:09:28.206+0000\t[##################......] stackoverflow.posts\t103MB/134MB (76.8%)\n",
      "2019-01-14T13:09:31.209+0000\t[##################......] stackoverflow.posts\t104MB/134MB (78.2%)\n",
      "2019-01-14T13:09:34.209+0000\t[##################......] stackoverflow.posts\t104MB/134MB (78.2%)\n",
      "2019-01-14T13:09:37.208+0000\t[###################.....] stackoverflow.posts\t106MB/134MB (79.5%)\n",
      "2019-01-14T13:09:40.207+0000\t[###################.....] stackoverflow.posts\t106MB/134MB (79.5%)\n",
      "2019-01-14T13:09:43.207+0000\t[###################.....] stackoverflow.posts\t108MB/134MB (80.8%)\n",
      "2019-01-14T13:09:46.207+0000\t[###################.....] stackoverflow.posts\t108MB/134MB (80.8%)\n",
      "2019-01-14T13:09:49.206+0000\t[###################.....] stackoverflow.posts\t110MB/134MB (82.2%)\n",
      "2019-01-14T13:09:52.207+0000\t[###################.....] stackoverflow.posts\t110MB/134MB (82.2%)\n",
      "2019-01-14T13:09:55.206+0000\t[####################....] stackoverflow.posts\t112MB/134MB (83.5%)\n",
      "2019-01-14T13:09:58.171+0000\t[####################....] stackoverflow.posts\t112MB/134MB (83.5%)\n",
      "2019-01-14T13:10:01.171+0000\t[####################....] stackoverflow.posts\t113MB/134MB (84.9%)\n",
      "2019-01-14T13:10:04.172+0000\t[####################....] stackoverflow.posts\t113MB/134MB (84.9%)\n",
      "2019-01-14T13:10:07.173+0000\t[####################....] stackoverflow.posts\t115MB/134MB (86.3%)\n",
      "2019-01-14T13:10:10.174+0000\t[####################....] stackoverflow.posts\t115MB/134MB (86.3%)\n",
      "2019-01-14T13:10:13.170+0000\t[#####################...] stackoverflow.posts\t117MB/134MB (87.6%)\n",
      "2019-01-14T13:10:16.171+0000\t[#####################...] stackoverflow.posts\t117MB/134MB (87.6%)\n",
      "2019-01-14T13:10:19.173+0000\t[#####################...] stackoverflow.posts\t119MB/134MB (88.9%)\n",
      "2019-01-14T13:10:22.171+0000\t[#####################...] stackoverflow.posts\t119MB/134MB (88.9%)\n",
      "2019-01-14T13:10:25.170+0000\t[#####################...] stackoverflow.posts\t120MB/134MB (90.2%)\n",
      "2019-01-14T13:10:28.135+0000\t[#####################...] stackoverflow.posts\t120MB/134MB (90.2%)\n",
      "2019-01-14T13:10:31.172+0000\t[#####################...] stackoverflow.posts\t122MB/134MB (91.6%)\n",
      "2019-01-14T13:10:34.136+0000\t[#####################...] stackoverflow.posts\t122MB/134MB (91.6%)\n",
      "2019-01-14T13:10:37.135+0000\t[######################..] stackoverflow.posts\t124MB/134MB (93.0%)\n",
      "2019-01-14T13:10:40.138+0000\t[######################..] stackoverflow.posts\t124MB/134MB (93.0%)\n",
      "2019-01-14T13:10:43.136+0000\t[######################..] stackoverflow.posts\t126MB/134MB (94.3%)\n",
      "2019-01-14T13:10:46.136+0000\t[######################..] stackoverflow.posts\t126MB/134MB (94.3%)\n",
      "2019-01-14T13:10:49.135+0000\t[######################..] stackoverflow.posts\t128MB/134MB (95.6%)\n",
      "2019-01-14T13:10:52.135+0000\t[######################..] stackoverflow.posts\t128MB/134MB (95.6%)\n",
      "2019-01-14T13:10:55.136+0000\t[#######################.] stackoverflow.posts\t130MB/134MB (97.1%)\n",
      "2019-01-14T13:10:58.100+0000\t[#######################.] stackoverflow.posts\t130MB/134MB (97.1%)\n",
      "2019-01-14T13:11:01.099+0000\t[#######################.] stackoverflow.posts\t130MB/134MB (97.4%)\n",
      "2019-01-14T13:11:04.100+0000\t[#######################.] stackoverflow.posts\t131MB/134MB (98.4%)\n",
      "2019-01-14T13:11:07.100+0000\t[#######################.] stackoverflow.posts\t131MB/134MB (98.4%)\n",
      "2019-01-14T13:11:10.100+0000\t[#######################.] stackoverflow.posts\t133MB/134MB (99.7%)\n",
      "2019-01-14T13:11:13.103+0000\t[#######################.] stackoverflow.posts\t133MB/134MB (99.7%)\n",
      "2019-01-14T13:11:16.100+0000\t[########################] stackoverflow.posts\t134MB/134MB (100.0%)\n",
      "2019-01-14T13:11:16.322+0000\t[########################] stackoverflow.posts\t134MB/134MB (100.0%)\n",
      "2019-01-14T13:11:16.323+0000\timported 76278 documents\n"
     ]
    }
   ],
   "source": [
    "%%bash\n",
    "mongoimport --db stackoverflow --collection posts --drop --type csv \\\n",
    "    --headerline --host=ec2-3-82-61-111.compute-1.amazonaws.com --file ../Posts.csv"
   ]
  },
  {
   "cell_type": "code",
   "execution_count": 26,
   "metadata": {
    "scrolled": true
   },
   "outputs": [
    {
     "name": "stderr",
     "output_type": "stream",
     "text": [
      "2019-01-14T13:11:16.810+0000\tconnected to: ec2-3-82-61-111.compute-1.amazonaws.com\n",
      "2019-01-14T13:11:16.941+0000\tdropping: stackoverflow.users\n",
      "2019-01-14T13:11:19.407+0000\t[#.......................] stackoverflow.users\t620KB/9.52MB (6.4%)\n",
      "2019-01-14T13:11:22.405+0000\t[##......................] stackoverflow.users\t1.03MB/9.52MB (10.8%)\n",
      "2019-01-14T13:11:25.409+0000\t[###.....................] stackoverflow.users\t1.43MB/9.52MB (15.0%)\n",
      "2019-01-14T13:11:28.369+0000\t[#####...................] stackoverflow.users\t2.03MB/9.52MB (21.3%)\n",
      "2019-01-14T13:11:31.369+0000\t[######..................] stackoverflow.users\t2.71MB/9.52MB (28.4%)\n",
      "2019-01-14T13:11:34.370+0000\t[#######.................] stackoverflow.users\t3.15MB/9.52MB (33.1%)\n",
      "2019-01-14T13:11:37.370+0000\t[#########...............] stackoverflow.users\t3.73MB/9.52MB (39.2%)\n",
      "2019-01-14T13:11:40.371+0000\t[##########..............] stackoverflow.users\t4.10MB/9.52MB (43.1%)\n",
      "2019-01-14T13:11:43.371+0000\t[###########.............] stackoverflow.users\t4.67MB/9.52MB (49.1%)\n",
      "2019-01-14T13:11:46.369+0000\t[#############...........] stackoverflow.users\t5.25MB/9.52MB (55.2%)\n",
      "2019-01-14T13:11:49.369+0000\t[##############..........] stackoverflow.users\t5.80MB/9.52MB (60.9%)\n",
      "2019-01-14T13:11:52.369+0000\t[###############.........] stackoverflow.users\t6.17MB/9.52MB (64.8%)\n",
      "2019-01-14T13:11:55.369+0000\t[################........] stackoverflow.users\t6.70MB/9.52MB (70.4%)\n",
      "2019-01-14T13:11:58.335+0000\t[##################......] stackoverflow.users\t7.23MB/9.52MB (75.9%)\n",
      "2019-01-14T13:12:01.335+0000\t[###################.....] stackoverflow.users\t7.77MB/9.52MB (81.6%)\n",
      "2019-01-14T13:12:04.333+0000\t[####################....] stackoverflow.users\t8.17MB/9.52MB (85.8%)\n",
      "2019-01-14T13:12:07.333+0000\t[#####################...] stackoverflow.users\t8.65MB/9.52MB (90.8%)\n",
      "2019-01-14T13:12:10.335+0000\t[#######################.] stackoverflow.users\t9.17MB/9.52MB (96.3%)\n",
      "2019-01-14T13:12:12.886+0000\t[########################] stackoverflow.users\t9.52MB/9.52MB (100.0%)\n",
      "2019-01-14T13:12:12.886+0000\timported 49033 documents\n"
     ]
    }
   ],
   "source": [
    "%%bash\n",
    "mongoimport --db stackoverflow --collection users --drop --type csv \\\n",
    "   --headerline --host=ec2-3-82-61-111.compute-1.amazonaws.com --file ../Users.csv"
   ]
  },
  {
   "cell_type": "markdown",
   "metadata": {},
   "source": [
    "### Creación de índices\n",
    "\n",
    "Para que el proceso map-reduce y de agregación funcione mejor, voy a crear índices sobre alguns atributos."
   ]
  },
  {
   "cell_type": "code",
   "execution_count": 35,
   "metadata": {
    "scrolled": false
   },
   "outputs": [
    {
     "data": {
      "text/plain": [
       "('Id_hashed', 'Id_hashed', 'OwnerUserId_hashed')"
      ]
     },
     "execution_count": 35,
     "metadata": {},
     "output_type": "execute_result"
    }
   ],
   "source": [
    "(\n",
    "    db.posts.create_index([('Id', pymongo.HASHED)]),\n",
    "    db.users.create_index([('Id', pymongo.HASHED)]),\n",
    "    db.posts.create_index([('OwnerUserId', pymongo.HASHED)])\n",
    ")"
   ]
  },
  {
   "cell_type": "markdown",
   "metadata": {},
   "source": [
    "## Descripción del modo de funcionamiento de los servicios serverless\n",
    "\n",
    "TODO"
   ]
  },
  {
   "cell_type": "markdown",
   "metadata": {},
   "source": [
    "## Pasos de uso para la ejecución de código Python en AWS Lambda y Azure Function\n",
    "\n",
    "TODO"
   ]
  },
  {
   "cell_type": "markdown",
   "metadata": {},
   "source": [
    "## Despliegue de código para consultas de la sesión 2 en AWS Lambda"
   ]
  },
  {
   "cell_type": "code",
   "execution_count": 14,
   "metadata": {},
   "outputs": [
    {
     "name": "stdout",
     "output_type": "stream",
     "text": [
      "\u001b[K\u001b[?25h/opt/conda/bin/serverless -> /opt/conda/lib/node_modules/serverless/bin/serverlesss\u001b[0m promise-queue@2.2.5\u001b[0m\u001b[K[K\n",
      "/opt/conda/bin/slss -> /opt/conda/lib/node_modules/serverless/bin/serverless\n",
      "/opt/conda/bin/sls -> /opt/conda/lib/node_modules/serverless/bin/serverless\n",
      "\u001b[K\u001b[?25h        \u001b[27m\u001b[90m......\u001b[0m] / postinstall:concat-stream: \u001b[32minfo\u001b[0m \u001b[35mlifecycle\u001b[0m concat-stream@\u001b[0m\u001b[K[0m\u001b[K\n",
      "> spawn-sync@1.0.15 postinstall /opt/conda/lib/node_modules/serverless/node_modules/spawn-sync\n",
      "> node postinstall\n",
      "\n",
      "\n",
      "> serverless@1.36.1 postinstall /opt/conda/lib/node_modules/serverless\n",
      "> node ./scripts/postinstall.js\n",
      "\n",
      "+ serverless@1.36.1\n",
      "added 441 packages in 66.811s\n"
     ]
    }
   ],
   "source": [
    "!npm install -g serverless"
   ]
  },
  {
   "cell_type": "code",
   "execution_count": 15,
   "metadata": {},
   "outputs": [
    {
     "name": "stdout",
     "output_type": "stream",
     "text": [
      "\u001b[K\u001b[?25h\u001b[37;40mnpm\u001b[0m \u001b[0m\u001b[34;40mnotice\u001b[0m\u001b[35m\u001b[0m created a lockfile as package-lock.json. You should commit this file.\n",
      "\u001b[0madded 45 packages in 25.864s\n"
     ]
    }
   ],
   "source": [
    "!npm install"
   ]
  },
  {
   "cell_type": "code",
   "execution_count": 16,
   "metadata": {},
   "outputs": [
    {
     "name": "stdout",
     "output_type": "stream",
     "text": [
      "{\r\n",
      "    \"statusCode\": 200,\r\n",
      "    \"body\": \"{\\\"data\\\": [{\\\"_id\\\": 223, \\\"usersCount\\\": 1}, {\\\"_id\\\": 158, \\\"usersCount\\\": 1}, {\\\"_id\\\": 144, \\\"usersCount\\\": 1}, {\\\"_id\\\": 130, \\\"usersCount\\\": 1}, {\\\"_id\\\": 119, \\\"usersCount\\\": 2}, {\\\"_id\\\": 115, \\\"usersCount\\\": 1}, {\\\"_id\\\": 114, \\\"usersCount\\\": 1}, {\\\"_id\\\": 111, \\\"usersCount\\\": 1}, {\\\"_id\\\": 107, \\\"usersCount\\\": 1}, {\\\"_id\\\": 96, \\\"usersCount\\\": 1}, {\\\"_id\\\": 95, \\\"usersCount\\\": 1}, {\\\"_id\\\": 94, \\\"usersCount\\\": 1}, {\\\"_id\\\": 85, \\\"usersCount\\\": 1}, {\\\"_id\\\": 84, \\\"usersCount\\\": 1}, {\\\"_id\\\": 83, \\\"usersCount\\\": 2}, {\\\"_id\\\": 79, \\\"usersCount\\\": 1}, {\\\"_id\\\": 75, \\\"usersCount\\\": 1}, {\\\"_id\\\": 72, \\\"usersCount\\\": 1}, {\\\"_id\\\": 71, \\\"usersCount\\\": 1}, {\\\"_id\\\": 69, \\\"usersCount\\\": 1}, {\\\"_id\\\": 64, \\\"usersCount\\\": 2}, {\\\"_id\\\": 62, \\\"usersCount\\\": 2}, {\\\"_id\\\": 60, \\\"usersCount\\\": 1}, {\\\"_id\\\": 56, \\\"usersCount\\\": 1}, {\\\"_id\\\": 55, \\\"usersCount\\\": 2}, {\\\"_id\\\": 54, \\\"usersCount\\\": 1}, {\\\"_id\\\": 51, \\\"usersCount\\\": 3}, {\\\"_id\\\": 50, \\\"usersCount\\\": 4}, {\\\"_id\\\": 49, \\\"usersCount\\\": 2}, {\\\"_id\\\": 48, \\\"usersCount\\\": 5}, {\\\"_id\\\": 47, \\\"usersCount\\\": 4}, {\\\"_id\\\": 46, \\\"usersCount\\\": 3}, {\\\"_id\\\": 45, \\\"usersCount\\\": 3}, {\\\"_id\\\": 44, \\\"usersCount\\\": 2}, {\\\"_id\\\": 43, \\\"usersCount\\\": 4}, {\\\"_id\\\": 42, \\\"usersCount\\\": 1}, {\\\"_id\\\": 41, \\\"usersCount\\\": 3}, {\\\"_id\\\": 40, \\\"usersCount\\\": 2}, {\\\"_id\\\": 39, \\\"usersCount\\\": 4}, {\\\"_id\\\": 38, \\\"usersCount\\\": 2}, {\\\"_id\\\": 37, \\\"usersCount\\\": 6}, {\\\"_id\\\": 36, \\\"usersCount\\\": 3}, {\\\"_id\\\": 35, \\\"usersCount\\\": 4}, {\\\"_id\\\": 34, \\\"usersCount\\\": 2}, {\\\"_id\\\": 33, \\\"usersCount\\\": 3}, {\\\"_id\\\": 32, \\\"usersCount\\\": 4}, {\\\"_id\\\": 31, \\\"usersCount\\\": 4}, {\\\"_id\\\": 30, \\\"usersCount\\\": 9}, {\\\"_id\\\": 29, \\\"usersCount\\\": 11}, {\\\"_id\\\": 28, \\\"usersCount\\\": 6}, {\\\"_id\\\": 27, \\\"usersCount\\\": 5}, {\\\"_id\\\": 26, \\\"usersCount\\\": 12}, {\\\"_id\\\": 25, \\\"usersCount\\\": 10}, {\\\"_id\\\": 24, \\\"usersCount\\\": 16}, {\\\"_id\\\": 23, \\\"usersCount\\\": 9}, {\\\"_id\\\": 22, \\\"usersCount\\\": 16}, {\\\"_id\\\": 21, \\\"usersCount\\\": 15}, {\\\"_id\\\": 20, \\\"usersCount\\\": 20}, {\\\"_id\\\": 19, \\\"usersCount\\\": 19}, {\\\"_id\\\": 18, \\\"usersCount\\\": 13}, {\\\"_id\\\": 17, \\\"usersCount\\\": 20}, {\\\"_id\\\": 16, \\\"usersCount\\\": 24}, {\\\"_id\\\": 15, \\\"usersCount\\\": 35}, {\\\"_id\\\": 14, \\\"usersCount\\\": 37}, {\\\"_id\\\": 13, \\\"usersCount\\\": 34}, {\\\"_id\\\": 12, \\\"usersCount\\\": 43}, {\\\"_id\\\": 11, \\\"usersCount\\\": 49}, {\\\"_id\\\": 10, \\\"usersCount\\\": 79}, {\\\"_id\\\": 9, \\\"usersCount\\\": 76}, {\\\"_id\\\": 8, \\\"usersCount\\\": 105}, {\\\"_id\\\": 7, \\\"usersCount\\\": 142}, {\\\"_id\\\": 6, \\\"usersCount\\\": 184}, {\\\"_id\\\": 5, \\\"usersCount\\\": 295}, {\\\"_id\\\": 4, \\\"usersCount\\\": 407}, {\\\"_id\\\": 3, \\\"usersCount\\\": 706}, {\\\"_id\\\": 2, \\\"usersCount\\\": 1603}, {\\\"_id\\\": 1, \\\"usersCount\\\": 6840}, {\\\"_id\\\": 0, \\\"usersCount\\\": 38094}], \\\"elapsedTime\\\": 4.6297406000085175}\"\r\n",
      "}\r\n"
     ]
    }
   ],
   "source": [
    "!serverless invoke local --function rq1_agg"
   ]
  },
  {
   "cell_type": "code",
   "execution_count": 32,
   "metadata": {},
   "outputs": [
    {
     "name": "stdout",
     "output_type": "stream",
     "text": [
      "{\r\n",
      "    \"statusCode\": 200,\r\n",
      "    \"body\": \"{\\\"data\\\": [{\\\"_id\\\": 2035, \\\"usersCount\\\": 1}, {\\\"_id\\\": 729, \\\"usersCount\\\": 1}, {\\\"_id\\\": 669, \\\"usersCount\\\": 1}, {\\\"_id\\\": 542, \\\"usersCount\\\": 1}, {\\\"_id\\\": 469, \\\"usersCount\\\": 1}, {\\\"_id\\\": 451, \\\"usersCount\\\": 1}, {\\\"_id\\\": 411, \\\"usersCount\\\": 1}, {\\\"_id\\\": 381, \\\"usersCount\\\": 1}, {\\\"_id\\\": 373, \\\"usersCount\\\": 1}, {\\\"_id\\\": 353, \\\"usersCount\\\": 1}, {\\\"_id\\\": 352, \\\"usersCount\\\": 1}, {\\\"_id\\\": 343, \\\"usersCount\\\": 1}, {\\\"_id\\\": 329, \\\"usersCount\\\": 1}, {\\\"_id\\\": 327, \\\"usersCount\\\": 1}, {\\\"_id\\\": 283, \\\"usersCount\\\": 1}, {\\\"_id\\\": 266, \\\"usersCount\\\": 1}, {\\\"_id\\\": 265, \\\"usersCount\\\": 1}, {\\\"_id\\\": 262, \\\"usersCount\\\": 1}, {\\\"_id\\\": 259, \\\"usersCount\\\": 1}, {\\\"_id\\\": 258, \\\"usersCount\\\": 1}, {\\\"_id\\\": 250, \\\"usersCount\\\": 1}, {\\\"_id\\\": 246, \\\"usersCount\\\": 2}, {\\\"_id\\\": 227, \\\"usersCount\\\": 2}, {\\\"_id\\\": 224, \\\"usersCount\\\": 1}, {\\\"_id\\\": 210, \\\"usersCount\\\": 1}, {\\\"_id\\\": 208, \\\"usersCount\\\": 1}, {\\\"_id\\\": 204, \\\"usersCount\\\": 1}, {\\\"_id\\\": 200, \\\"usersCount\\\": 1}, {\\\"_id\\\": 190, \\\"usersCount\\\": 1}, {\\\"_id\\\": 184, \\\"usersCount\\\": 1}, {\\\"_id\\\": 182, \\\"usersCount\\\": 1}, {\\\"_id\\\": 168, \\\"usersCount\\\": 1}, {\\\"_id\\\": 161, \\\"usersCount\\\": 1}, {\\\"_id\\\": 152, \\\"usersCount\\\": 1}, {\\\"_id\\\": 149, \\\"usersCount\\\": 1}, {\\\"_id\\\": 148, \\\"usersCount\\\": 1}, {\\\"_id\\\": 139, \\\"usersCount\\\": 1}, {\\\"_id\\\": 135, \\\"usersCount\\\": 1}, {\\\"_id\\\": 127, \\\"usersCount\\\": 1}, {\\\"_id\\\": 126, \\\"usersCount\\\": 1}, {\\\"_id\\\": 125, \\\"usersCount\\\": 1}, {\\\"_id\\\": 118, \\\"usersCount\\\": 1}, {\\\"_id\\\": 117, \\\"usersCount\\\": 1}, {\\\"_id\\\": 114, \\\"usersCount\\\": 2}, {\\\"_id\\\": 112, \\\"usersCount\\\": 2}, {\\\"_id\\\": 110, \\\"usersCount\\\": 2}, {\\\"_id\\\": 109, \\\"usersCount\\\": 1}, {\\\"_id\\\": 108, \\\"usersCount\\\": 1}, {\\\"_id\\\": 107, \\\"usersCount\\\": 1}, {\\\"_id\\\": 105, \\\"usersCount\\\": 2}, {\\\"_id\\\": 104, \\\"usersCount\\\": 2}, {\\\"_id\\\": 102, \\\"usersCount\\\": 1}, {\\\"_id\\\": 100, \\\"usersCount\\\": 1}, {\\\"_id\\\": 98, \\\"usersCount\\\": 1}, {\\\"_id\\\": 97, \\\"usersCount\\\": 3}, {\\\"_id\\\": 93, \\\"usersCount\\\": 2}, {\\\"_id\\\": 90, \\\"usersCount\\\": 1}, {\\\"_id\\\": 89, \\\"usersCount\\\": 2}, {\\\"_id\\\": 88, \\\"usersCount\\\": 1}, {\\\"_id\\\": 86, \\\"usersCount\\\": 1}, {\\\"_id\\\": 84, \\\"usersCount\\\": 2}, {\\\"_id\\\": 83, \\\"usersCount\\\": 1}, {\\\"_id\\\": 82, \\\"usersCount\\\": 1}, {\\\"_id\\\": 81, \\\"usersCount\\\": 4}, {\\\"_id\\\": 80, \\\"usersCount\\\": 2}, {\\\"_id\\\": 78, \\\"usersCount\\\": 2}, {\\\"_id\\\": 77, \\\"usersCount\\\": 2}, {\\\"_id\\\": 76, \\\"usersCount\\\": 1}, {\\\"_id\\\": 75, \\\"usersCount\\\": 2}, {\\\"_id\\\": 74, \\\"usersCount\\\": 1}, {\\\"_id\\\": 72, \\\"usersCount\\\": 1}, {\\\"_id\\\": 70, \\\"usersCount\\\": 1}, {\\\"_id\\\": 69, \\\"usersCount\\\": 3}, {\\\"_id\\\": 68, \\\"usersCount\\\": 1}, {\\\"_id\\\": 66, \\\"usersCount\\\": 4}, {\\\"_id\\\": 65, \\\"usersCount\\\": 1}, {\\\"_id\\\": 64, \\\"usersCount\\\": 2}, {\\\"_id\\\": 62, \\\"usersCount\\\": 1}, {\\\"_id\\\": 57, \\\"usersCount\\\": 2}, {\\\"_id\\\": 56, \\\"usersCount\\\": 2}, {\\\"_id\\\": 55, \\\"usersCount\\\": 4}, {\\\"_id\\\": 54, \\\"usersCount\\\": 1}, {\\\"_id\\\": 53, \\\"usersCount\\\": 7}, {\\\"_id\\\": 52, \\\"usersCount\\\": 3}, {\\\"_id\\\": 51, \\\"usersCount\\\": 5}, {\\\"_id\\\": 50, \\\"usersCount\\\": 3}, {\\\"_id\\\": 49, \\\"usersCount\\\": 2}, {\\\"_id\\\": 48, \\\"usersCount\\\": 6}, {\\\"_id\\\": 47, \\\"usersCount\\\": 2}, {\\\"_id\\\": 46, \\\"usersCount\\\": 8}, {\\\"_id\\\": 45, \\\"usersCount\\\": 1}, {\\\"_id\\\": 44, \\\"usersCount\\\": 2}, {\\\"_id\\\": 43, \\\"usersCount\\\": 3}, {\\\"_id\\\": 42, \\\"usersCount\\\": 5}, {\\\"_id\\\": 41, \\\"usersCount\\\": 4}, {\\\"_id\\\": 40, \\\"usersCount\\\": 2}, {\\\"_id\\\": 39, \\\"usersCount\\\": 3}, {\\\"_id\\\": 38, \\\"usersCount\\\": 5}, {\\\"_id\\\": 37, \\\"usersCount\\\": 3}, {\\\"_id\\\": 36, \\\"usersCount\\\": 4}, {\\\"_id\\\": 35, \\\"usersCount\\\": 9}, {\\\"_id\\\": 34, \\\"usersCount\\\": 2}, {\\\"_id\\\": 33, \\\"usersCount\\\": 6}, {\\\"_id\\\": 32, \\\"usersCount\\\": 11}, {\\\"_id\\\": 31, \\\"usersCount\\\": 4}, {\\\"_id\\\": 30, \\\"usersCount\\\": 8}, {\\\"_id\\\": 29, \\\"usersCount\\\": 8}, {\\\"_id\\\": 28, \\\"usersCount\\\": 7}, {\\\"_id\\\": 27, \\\"usersCount\\\": 3}, {\\\"_id\\\": 26, \\\"usersCount\\\": 10}, {\\\"_id\\\": 25, \\\"usersCount\\\": 8}, {\\\"_id\\\": 24, \\\"usersCount\\\": 8}, {\\\"_id\\\": 23, \\\"usersCount\\\": 10}, {\\\"_id\\\": 22, \\\"usersCount\\\": 13}, {\\\"_id\\\": 21, \\\"usersCount\\\": 17}, {\\\"_id\\\": 20, \\\"usersCount\\\": 11}, {\\\"_id\\\": 19, \\\"usersCount\\\": 19}, {\\\"_id\\\": 18, \\\"usersCount\\\": 23}, {\\\"_id\\\": 17, \\\"usersCount\\\": 27}, {\\\"_id\\\": 16, \\\"usersCount\\\": 19}, {\\\"_id\\\": 15, \\\"usersCount\\\": 18}, {\\\"_id\\\": 14, \\\"usersCount\\\": 20}, {\\\"_id\\\": 13, \\\"usersCount\\\": 32}, {\\\"_id\\\": 12, \\\"usersCount\\\": 31}, {\\\"_id\\\": 11, \\\"usersCount\\\": 41}, {\\\"_id\\\": 10, \\\"usersCount\\\": 51}, {\\\"_id\\\": 9, \\\"usersCount\\\": 81}, {\\\"_id\\\": 8, \\\"usersCount\\\": 71}, {\\\"_id\\\": 7, \\\"usersCount\\\": 108}, {\\\"_id\\\": 6, \\\"usersCount\\\": 145}, {\\\"_id\\\": 5, \\\"usersCount\\\": 194}, {\\\"_id\\\": 4, \\\"usersCount\\\": 263}, {\\\"_id\\\": 3, \\\"usersCount\\\": 450}, {\\\"_id\\\": 2, \\\"usersCount\\\": 998}, {\\\"_id\\\": 1, \\\"usersCount\\\": 3358}, {\\\"_id\\\": 0, \\\"usersCount\\\": 42769}], \\\"elapsedTime\\\": 4.3762929000658914}\"\r\n",
      "}\r\n"
     ]
    }
   ],
   "source": [
    "!serverless invoke local --function rq2_agg"
   ]
  },
  {
   "cell_type": "markdown",
   "metadata": {},
   "source": [
    "Create or login to your Amazon Web Services Account and go to the Identity & Access Management (IAM) page.\n",
    "\n",
    "Click on Users and then Add user. Enter a name in the first field to remind you this User is the Framework, like serverless-admin. Enable Programmatic access by clicking the checkbox. Click Next to go through to the Permissions page. Click on Attach existing policies directly. Search for and select AdministratorAccess then click Next: Review. Check everything looks good and click Create user. Later, you can create different IAM Users for different apps and different stages of those apps. That is, if you don't use separate AWS accounts for stages/apps, which is most common.\n",
    "\n",
    "View and copy the API Key & Secret to a temporary place. You'll need it in the next step."
   ]
  },
  {
   "cell_type": "code",
   "execution_count": 26,
   "metadata": {},
   "outputs": [
    {
     "name": "stdout",
     "output_type": "stream",
     "text": [
      "Serverless: Generated requirements from /home/jovyan/bdge/trabajo/requirements.txt in /home/jovyan/bdge/trabajo/.serverless/requirements.txt...\n",
      "Serverless: Installing requirements from /home/jovyan/bdge/trabajo/.serverless/requirements/requirements.txt ...\n",
      "Serverless: Packaging service...\n",
      "Serverless: Excluding development dependencies...\n",
      "Serverless: Injecting required Python packages to package...\n",
      "Serverless: WARNING: Function rq1_agg has timeout of 60 seconds, however, it's attached to API Gateway so it's automatically limited to 30 seconds.\n",
      "Serverless: WARNING: Function rq1_mapred has timeout of 60 seconds, however, it's attached to API Gateway so it's automatically limited to 30 seconds.\n",
      "Serverless: WARNING: Function rq2_agg has timeout of 60 seconds, however, it's attached to API Gateway so it's automatically limited to 30 seconds.\n",
      "Serverless: WARNING: Function rq2_mapred has timeout of 60 seconds, however, it's attached to API Gateway so it's automatically limited to 30 seconds.\n",
      "Serverless: WARNING: Function rq3_agg has timeout of 60 seconds, however, it's attached to API Gateway so it's automatically limited to 30 seconds.\n",
      "Serverless: WARNING: Function rq3_mapred has timeout of 60 seconds, however, it's attached to API Gateway so it's automatically limited to 30 seconds.\n",
      "Serverless: WARNING: Function rq4_agg has timeout of 60 seconds, however, it's attached to API Gateway so it's automatically limited to 30 seconds.\n",
      "Serverless: Uploading CloudFormation file to S3...\n",
      "Serverless: Uploading artifacts...\n",
      "Serverless: Uploading service .zip file to S3 (3.12 MB)...\n",
      "Serverless: Validating template...\n",
      "Serverless: Updating Stack...\n",
      "Serverless: Checking Stack update progress...\n",
      "..................................................\n",
      "Serverless: Stack update finished...\n",
      "Service Information\n",
      "service: aws-lambda\n",
      "stage: dev\n",
      "region: us-east-1\n",
      "stack: aws-lambda-dev\n",
      "api keys:\n",
      "  None\n",
      "endpoints:\n",
      "  GET - https://na2dey56vh.execute-api.us-east-1.amazonaws.com/dev/rq1_agg\n",
      "  GET - https://na2dey56vh.execute-api.us-east-1.amazonaws.com/dev/rq1_mapred\n",
      "  GET - https://na2dey56vh.execute-api.us-east-1.amazonaws.com/dev/rq2_agg\n",
      "  GET - https://na2dey56vh.execute-api.us-east-1.amazonaws.com/dev/rq2_mapred\n",
      "  GET - https://na2dey56vh.execute-api.us-east-1.amazonaws.com/dev/rq3_agg\n",
      "  GET - https://na2dey56vh.execute-api.us-east-1.amazonaws.com/dev/rq3_mapred\n",
      "  GET - https://na2dey56vh.execute-api.us-east-1.amazonaws.com/dev/rq4_agg\n",
      "functions:\n",
      "  rq1_agg: aws-lambda-dev-rq1_agg\n",
      "  rq1_mapred: aws-lambda-dev-rq1_mapred\n",
      "  rq2_agg: aws-lambda-dev-rq2_agg\n",
      "  rq2_mapred: aws-lambda-dev-rq2_mapred\n",
      "  rq3_agg: aws-lambda-dev-rq3_agg\n",
      "  rq3_mapred: aws-lambda-dev-rq3_mapred\n",
      "  rq4_agg: aws-lambda-dev-rq4_agg\n",
      "layers:\n",
      "  None\n",
      "Serverless: Removing old service artifacts from S3...\n"
     ]
    }
   ],
   "source": [
    "!serverless deploy"
   ]
  },
  {
   "cell_type": "code",
   "execution_count": 28,
   "metadata": {},
   "outputs": [
    {
     "name": "stdout",
     "output_type": "stream",
     "text": [
      "{\n",
      "    \"statusCode\": 200,\n",
      "    \"body\": \"{\\\"data\\\": [{\\\"_id\\\": 223, \\\"usersCount\\\": 1}, {\\\"_id\\\": 158, \\\"usersCount\\\": 1}, {\\\"_id\\\": 144, \\\"usersCount\\\": 1}, {\\\"_id\\\": 130, \\\"usersCount\\\": 1}, {\\\"_id\\\": 119, \\\"usersCount\\\": 2}, {\\\"_id\\\": 115, \\\"usersCount\\\": 1}, {\\\"_id\\\": 114, \\\"usersCount\\\": 1}, {\\\"_id\\\": 111, \\\"usersCount\\\": 1}, {\\\"_id\\\": 107, \\\"usersCount\\\": 1}, {\\\"_id\\\": 96, \\\"usersCount\\\": 1}, {\\\"_id\\\": 95, \\\"usersCount\\\": 1}, {\\\"_id\\\": 94, \\\"usersCount\\\": 1}, {\\\"_id\\\": 85, \\\"usersCount\\\": 1}, {\\\"_id\\\": 84, \\\"usersCount\\\": 1}, {\\\"_id\\\": 83, \\\"usersCount\\\": 2}, {\\\"_id\\\": 79, \\\"usersCount\\\": 1}, {\\\"_id\\\": 75, \\\"usersCount\\\": 1}, {\\\"_id\\\": 72, \\\"usersCount\\\": 1}, {\\\"_id\\\": 71, \\\"usersCount\\\": 1}, {\\\"_id\\\": 69, \\\"usersCount\\\": 1}, {\\\"_id\\\": 64, \\\"usersCount\\\": 2}, {\\\"_id\\\": 62, \\\"usersCount\\\": 2}, {\\\"_id\\\": 60, \\\"usersCount\\\": 1}, {\\\"_id\\\": 56, \\\"usersCount\\\": 1}, {\\\"_id\\\": 55, \\\"usersCount\\\": 2}, {\\\"_id\\\": 54, \\\"usersCount\\\": 1}, {\\\"_id\\\": 51, \\\"usersCount\\\": 3}, {\\\"_id\\\": 50, \\\"usersCount\\\": 4}, {\\\"_id\\\": 49, \\\"usersCount\\\": 2}, {\\\"_id\\\": 48, \\\"usersCount\\\": 5}, {\\\"_id\\\": 47, \\\"usersCount\\\": 4}, {\\\"_id\\\": 46, \\\"usersCount\\\": 3}, {\\\"_id\\\": 45, \\\"usersCount\\\": 3}, {\\\"_id\\\": 44, \\\"usersCount\\\": 2}, {\\\"_id\\\": 43, \\\"usersCount\\\": 4}, {\\\"_id\\\": 42, \\\"usersCount\\\": 1}, {\\\"_id\\\": 41, \\\"usersCount\\\": 3}, {\\\"_id\\\": 40, \\\"usersCount\\\": 2}, {\\\"_id\\\": 39, \\\"usersCount\\\": 4}, {\\\"_id\\\": 38, \\\"usersCount\\\": 2}, {\\\"_id\\\": 37, \\\"usersCount\\\": 6}, {\\\"_id\\\": 36, \\\"usersCount\\\": 3}, {\\\"_id\\\": 35, \\\"usersCount\\\": 4}, {\\\"_id\\\": 34, \\\"usersCount\\\": 2}, {\\\"_id\\\": 33, \\\"usersCount\\\": 3}, {\\\"_id\\\": 32, \\\"usersCount\\\": 4}, {\\\"_id\\\": 31, \\\"usersCount\\\": 4}, {\\\"_id\\\": 30, \\\"usersCount\\\": 9}, {\\\"_id\\\": 29, \\\"usersCount\\\": 11}, {\\\"_id\\\": 28, \\\"usersCount\\\": 6}, {\\\"_id\\\": 27, \\\"usersCount\\\": 5}, {\\\"_id\\\": 26, \\\"usersCount\\\": 12}, {\\\"_id\\\": 25, \\\"usersCount\\\": 10}, {\\\"_id\\\": 24, \\\"usersCount\\\": 16}, {\\\"_id\\\": 23, \\\"usersCount\\\": 9}, {\\\"_id\\\": 22, \\\"usersCount\\\": 16}, {\\\"_id\\\": 21, \\\"usersCount\\\": 15}, {\\\"_id\\\": 20, \\\"usersCount\\\": 20}, {\\\"_id\\\": 19, \\\"usersCount\\\": 19}, {\\\"_id\\\": 18, \\\"usersCount\\\": 13}, {\\\"_id\\\": 17, \\\"usersCount\\\": 20}, {\\\"_id\\\": 16, \\\"usersCount\\\": 24}, {\\\"_id\\\": 15, \\\"usersCount\\\": 35}, {\\\"_id\\\": 14, \\\"usersCount\\\": 37}, {\\\"_id\\\": 13, \\\"usersCount\\\": 34}, {\\\"_id\\\": 12, \\\"usersCount\\\": 43}, {\\\"_id\\\": 11, \\\"usersCount\\\": 49}, {\\\"_id\\\": 10, \\\"usersCount\\\": 79}, {\\\"_id\\\": 9, \\\"usersCount\\\": 76}, {\\\"_id\\\": 8, \\\"usersCount\\\": 105}, {\\\"_id\\\": 7, \\\"usersCount\\\": 142}, {\\\"_id\\\": 6, \\\"usersCount\\\": 184}, {\\\"_id\\\": 5, \\\"usersCount\\\": 295}, {\\\"_id\\\": 4, \\\"usersCount\\\": 407}, {\\\"_id\\\": 3, \\\"usersCount\\\": 706}, {\\\"_id\\\": 2, \\\"usersCount\\\": 1603}, {\\\"_id\\\": 1, \\\"usersCount\\\": 6840}, {\\\"_id\\\": 0, \\\"usersCount\\\": 38094}], \\\"elapsedTime\\\": 3.6145777290003025}\"\n",
      "}\n"
     ]
    }
   ],
   "source": [
    "!serverless invoke --function rq1_agg"
   ]
  },
  {
   "cell_type": "markdown",
   "metadata": {},
   "source": [
    "\n",
    "### RQ1\n",
    "#### Framework de agregación"
   ]
  },
  {
   "cell_type": "code",
   "execution_count": 46,
   "metadata": {
    "scrolled": false
   },
   "outputs": [
    {
     "data": {
      "image/png": "[encoded data removed]",
      "text/plain": [
       "<Figure size 432x288 with 1 Axes>"
      ]
     },
     "metadata": {
      "needs_background": "light"
     },
     "output_type": "display_data"
    }
   ],
   "source": [
    "rq1_agg_req = requests.get(\"https://na2dey56vh.execute-api.us-east-1.amazonaws.com/dev/rq1_agg\")\n",
    "data = rq1_agg_req.json()['data']\n",
    "\n",
    "df = pd.DataFrame(list(data))\n",
    "df = df[df['_id']<40] # to show a similar plot\n",
    "\n",
    "plt.bar(df['_id'], df.usersCount, log=True, color=\"blue\", width=0.3)\n",
    "plt.plot(df['_id'], df.usersCount, color=\"red\")\n",
    "\n",
    "plt.xlabel(\"Number of posted questions\")\n",
    "plt.ylabel(\"Number of developers\")\n",
    "\n",
    "plt.show()"
   ]
  },
  {
   "cell_type": "markdown",
   "metadata": {},
   "source": [
    "#### Map-Reduce"
   ]
  },
  {
   "cell_type": "code",
   "execution_count": 47,
   "metadata": {
    "scrolled": false
   },
   "outputs": [
    {
     "data": {
      "image/png": "[encoded data removed]",
      "text/plain": [
       "<Figure size 432x288 with 1 Axes>"
      ]
     },
     "metadata": {
      "needs_background": "light"
     },
     "output_type": "display_data"
    }
   ],
   "source": [
    "rq1_mapred_req = requests.get(\"https://na2dey56vh.execute-api.us-east-1.amazonaws.com/dev/rq1_mapred\")\n",
    "data = rq1_mapred_req.json()['data']\n",
    "\n",
    "df = pd.DataFrame(list(data))\n",
    "\n",
    "df = pd.concat([df.drop('value', axis=1), pd.DataFrame(df['value'].tolist())], axis=1)\n",
    "\n",
    "df = df.groupby([0]).count().head(n=40)\n",
    "\n",
    "plt.bar(df.index, df['_id'], log=True, color=\"blue\", width=0.3)\n",
    "plt.plot(df.index, df['_id'], color=\"red\")\n",
    "\n",
    "plt.xlabel(\"Number of posted questions\")\n",
    "plt.ylabel(\"Number of developers\")\n",
    "\n",
    "plt.show()"
   ]
  },
  {
   "cell_type": "markdown",
   "metadata": {},
   "source": [
    "### RQ2\n",
    "#### Framework de agregación"
   ]
  },
  {
   "cell_type": "code",
   "execution_count": 54,
   "metadata": {
    "scrolled": false
   },
   "outputs": [
    {
     "data": {
      "image/png": "[encoded data removed]",
      "text/plain": [
       "<Figure size 432x288 with 1 Axes>"
      ]
     },
     "metadata": {
      "needs_background": "light"
     },
     "output_type": "display_data"
    }
   ],
   "source": [
    "rq2_agg_req = requests.get(\"https://na2dey56vh.execute-api.us-east-1.amazonaws.com/dev/rq2_agg\")\n",
    "data = rq2_agg_req.json()['data']\n",
    "\n",
    "df = pd.DataFrame(data)\n",
    "df = df[df['_id']<40] # to show a similar plot\n",
    "\n",
    "plt.bar(df['_id'], df.usersCount, log=True, color=\"blue\", width=0.3)\n",
    "plt.plot(df['_id'], df.usersCount, color=\"red\")\n",
    "\n",
    "plt.xlabel(\"Number of posted answers\")\n",
    "plt.ylabel(\"Number of developers\")\n",
    "\n",
    "plt.show()"
   ]
  },
  {
   "cell_type": "markdown",
   "metadata": {},
   "source": [
    "#### Map-Reduce"
   ]
  },
  {
   "cell_type": "code",
   "execution_count": 55,
   "metadata": {
    "scrolled": false
   },
   "outputs": [
    {
     "data": {
      "image/png": "[encoded data removed]",
      "text/plain": [
       "<Figure size 432x288 with 1 Axes>"
      ]
     },
     "metadata": {
      "needs_background": "light"
     },
     "output_type": "display_data"
    }
   ],
   "source": [
    "rq2_mapred_req = requests.get(\"https://na2dey56vh.execute-api.us-east-1.amazonaws.com/dev/rq2_mapred\")\n",
    "data = rq2_mapred_req.json()['data']\n",
    "\n",
    "df = pd.DataFrame(data)\n",
    "\n",
    "df = pd.concat([df.drop('value', axis=1), pd.DataFrame(df['value'].tolist())], axis=1)\n",
    "\n",
    "df = df.groupby([0]).count().head(n=40)\n",
    "\n",
    "plt.bar(df.index, df['_id'], log=True, color=\"blue\", width=0.3)\n",
    "plt.plot(df.index, df['_id'], color=\"red\")\n",
    "\n",
    "plt.xlabel(\"Number of posted answers\")\n",
    "plt.ylabel(\"Number of developers\")\n",
    "\n",
    "plt.show()"
   ]
  },
  {
   "cell_type": "markdown",
   "metadata": {},
   "source": [
    "### RQ3\n",
    "#### Framework de agregación"
   ]
  },
  {
   "cell_type": "code",
   "execution_count": 67,
   "metadata": {
    "scrolled": false
   },
   "outputs": [
    {
     "data": {
      "image/png": "[encoded data removed]",
      "text/plain": [
       "<Figure size 432x288 with 1 Axes>"
      ]
     },
     "metadata": {
      "needs_background": "light"
     },
     "output_type": "display_data"
    }
   ],
   "source": [
    "rq3_agg_req = requests.get(\"https://na2dey56vh.execute-api.us-east-1.amazonaws.com/dev/rq3_agg\")\n",
    "data = rq3_agg_req.json()['data']\n",
    "\n",
    "df = pd.DataFrame(data)\n",
    "df['total'] = df.ansCount+df.postsCount\n",
    "df['ansRate'] = df.ansCount/df.total*100\n",
    "\n",
    "df_dropna = df.dropna()\n",
    "\n",
    "plt.hist(df_dropna.ansRate, color = 'blue')\n",
    "plt.gca().invert_xaxis()\n",
    "\n",
    "plt.xlabel(\"Percentage of posts that are answers\")\n",
    "plt.ylabel(\"Number of developers\")\n",
    "\n",
    "plt.show()"
   ]
  },
  {
   "cell_type": "markdown",
   "metadata": {},
   "source": [
    "#### Map-Reduce"
   ]
  },
  {
   "cell_type": "code",
   "execution_count": 57,
   "metadata": {
    "scrolled": false
   },
   "outputs": [
    {
     "data": {
      "image/png": "[encoded data removed]",
      "text/plain": [
       "<Figure size 432x288 with 1 Axes>"
      ]
     },
     "metadata": {
      "needs_background": "light"
     },
     "output_type": "display_data"
    }
   ],
   "source": [
    "rq3_mapred_req = requests.get(\"https://na2dey56vh.execute-api.us-east-1.amazonaws.com/dev/rq3_mapred\")\n",
    "data = rq3_mapred_req.json()['data']\n",
    "\n",
    "df = pd.DataFrame(data)\n",
    "df = pd.concat([df.drop('value', axis=1), pd.DataFrame(df['value'].tolist())], axis=1)\n",
    "\n",
    "df['total'] = df.answers+df.questions\n",
    "df['ansRate'] = df.answers/df.total*100\n",
    "\n",
    "df_dropna = df.dropna()\n",
    "\n",
    "plt.hist(df_dropna.ansRate, color = 'blue')\n",
    "plt.gca().invert_xaxis()\n",
    "\n",
    "plt.xlabel(\"Percentage of posts that are answers\")\n",
    "plt.ylabel(\"Number of developers\")\n",
    "\n",
    "plt.show()"
   ]
  },
  {
   "cell_type": "markdown",
   "metadata": {},
   "source": [
    "### RQ4\n",
    "#### Framework de agregación"
   ]
  },
  {
   "cell_type": "code",
   "execution_count": 56,
   "metadata": {},
   "outputs": [
    {
     "data": {
      "text/plain": [
       "[{'_id': {'min': 44942, 'max': 44946},\n",
       "  'answers': [{'0q': 44946, '1a': 44942}, {'0q': 44942, '1a': 44946}],\n",
       "  'nanswers': 2},\n",
       " {'_id': {'min': 463, 'max': 19600},\n",
       "  'answers': [{'0q': 463, '1a': 19600}, {'0q': 19600, '1a': 463}],\n",
       "  'nanswers': 2},\n",
       " {'_id': {'min': 2509, 'max': ''},\n",
       "  'answers': [{'0q': 2509, '1a': ''}, {'0q': '', '1a': 2509}],\n",
       "  'nanswers': 2},\n",
       " {'_id': {'min': 3275, 'max': 35873},\n",
       "  'answers': [{'0q': 3275, '1a': 35873}, {'0q': 35873, '1a': 3275}],\n",
       "  'nanswers': 2},\n",
       " {'_id': {'min': 227, 'max': 2004},\n",
       "  'answers': [{'0q': 2004, '1a': 227}, {'0q': 227, '1a': 2004}],\n",
       "  'nanswers': 2},\n",
       " {'_id': {'min': 18376, 'max': 26302},\n",
       "  'answers': [{'0q': 18376, '1a': 26302}, {'0q': 26302, '1a': 18376}],\n",
       "  'nanswers': 2},\n",
       " {'_id': {'min': 250, 'max': 9897},\n",
       "  'answers': [{'0q': 250, '1a': 9897}, {'0q': 9897, '1a': 250}],\n",
       "  'nanswers': 2},\n",
       " {'_id': {'min': 250, 'max': 2429},\n",
       "  'answers': [{'0q': 250, '1a': 2429}, {'0q': 2429, '1a': 250}],\n",
       "  'nanswers': 2},\n",
       " {'_id': {'min': 250, 'max': 6491},\n",
       "  'answers': [{'0q': 6491, '1a': 250}, {'0q': 250, '1a': 6491}],\n",
       "  'nanswers': 2},\n",
       " {'_id': {'min': 250, 'max': 399},\n",
       "  'answers': [{'0q': 250, '1a': 399}, {'0q': 399, '1a': 250}],\n",
       "  'nanswers': 2},\n",
       " {'_id': {'min': 517, 'max': 2676},\n",
       "  'answers': [{'0q': 517, '1a': 2676}, {'0q': 2676, '1a': 517}],\n",
       "  'nanswers': 2},\n",
       " {'_id': {'min': 2004, 'max': 2747},\n",
       "  'answers': [{'0q': 2004, '1a': 2747}, {'0q': 2747, '1a': 2004}],\n",
       "  'nanswers': 2},\n",
       " {'_id': {'min': 301, 'max': 2230},\n",
       "  'answers': [{'0q': 301, '1a': 2230}, {'0q': 2230, '1a': 301}],\n",
       "  'nanswers': 2},\n",
       " {'_id': {'min': 535, 'max': 2230},\n",
       "  'answers': [{'0q': 2230, '1a': 535}, {'0q': 535, '1a': 2230}],\n",
       "  'nanswers': 2},\n",
       " {'_id': {'min': 399, 'max': 555},\n",
       "  'answers': [{'0q': 555, '1a': 399}, {'0q': 399, '1a': 555}],\n",
       "  'nanswers': 2},\n",
       " {'_id': {'min': 22, 'max': 288},\n",
       "  'answers': [{'0q': 22, '1a': 288}, {'0q': 288, '1a': 22}],\n",
       "  'nanswers': 2},\n",
       " {'_id': {'min': 100, 'max': 638},\n",
       "  'answers': [{'0q': 638, '1a': 100}, {'0q': 100, '1a': 638}],\n",
       "  'nanswers': 2},\n",
       " {'_id': {'min': 463, 'max': 2742},\n",
       "  'answers': [{'0q': 463, '1a': 2742}, {'0q': 2742, '1a': 463}],\n",
       "  'nanswers': 2},\n",
       " {'_id': {'min': 398, 'max': 2171},\n",
       "  'answers': [{'0q': 2171, '1a': 398}, {'0q': 398, '1a': 2171}],\n",
       "  'nanswers': 2},\n",
       " {'_id': {'min': 83, 'max': 100},\n",
       "  'answers': [{'0q': 100, '1a': 83}, {'0q': 83, '1a': 100}],\n",
       "  'nanswers': 2},\n",
       " {'_id': {'min': 65, 'max': 1184},\n",
       "  'answers': [{'0q': 1184, '1a': 65}, {'0q': 65, '1a': 1184}],\n",
       "  'nanswers': 2},\n",
       " {'_id': {'min': 3275, 'max': ''},\n",
       "  'answers': [{'0q': '', '1a': 3275}, {'0q': 3275, '1a': ''}],\n",
       "  'nanswers': 2},\n",
       " {'_id': {'min': 250, 'max': 12625},\n",
       "  'answers': [{'0q': 250, '1a': 12625}, {'0q': 12625, '1a': 250}],\n",
       "  'nanswers': 2},\n",
       " {'_id': {'min': 34, 'max': 250},\n",
       "  'answers': [{'0q': 34, '1a': 250}, {'0q': 250, '1a': 34}],\n",
       "  'nanswers': 2},\n",
       " {'_id': {'min': 100, 'max': 187},\n",
       "  'answers': [{'0q': 187, '1a': 100}, {'0q': 100, '1a': 187}],\n",
       "  'nanswers': 2},\n",
       " {'_id': {'min': 73, 'max': 2224},\n",
       "  'answers': [{'0q': 73, '1a': 2224}, {'0q': 2224, '1a': 73}],\n",
       "  'nanswers': 2},\n",
       " {'_id': {'min': 100, 'max': 353},\n",
       "  'answers': [{'0q': 100, '1a': 353}, {'0q': 353, '1a': 100}],\n",
       "  'nanswers': 2},\n",
       " {'_id': {'min': 100, 'max': 399},\n",
       "  'answers': [{'0q': 399, '1a': 100}, {'0q': 100, '1a': 399}],\n",
       "  'nanswers': 2},\n",
       " {'_id': {'min': 15855, 'max': 18124},\n",
       "  'answers': [{'0q': 18124, '1a': 15855}, {'0q': 15855, '1a': 18124}],\n",
       "  'nanswers': 2},\n",
       " {'_id': {'min': 83, 'max': 29967},\n",
       "  'answers': [{'0q': 29967, '1a': 83}, {'0q': 83, '1a': 29967}],\n",
       "  'nanswers': 2},\n",
       " {'_id': {'min': 6974, 'max': 29967},\n",
       "  'answers': [{'0q': 29967, '1a': 6974}, {'0q': 6974, '1a': 29967}],\n",
       "  'nanswers': 2},\n",
       " {'_id': {'min': 65, 'max': 7661},\n",
       "  'answers': [{'0q': 7661, '1a': 65}, {'0q': 65, '1a': 7661}],\n",
       "  'nanswers': 2},\n",
       " {'_id': {'min': 16349, 'max': 25360},\n",
       "  'answers': [{'0q': 16349, '1a': 25360}, {'0q': 25360, '1a': 16349}],\n",
       "  'nanswers': 2},\n",
       " {'_id': {'min': 250, 'max': 29967},\n",
       "  'answers': [{'0q': 29967, '1a': 250}, {'0q': 250, '1a': 29967}],\n",
       "  'nanswers': 2},\n",
       " {'_id': {'min': 83, 'max': 301},\n",
       "  'answers': [{'0q': 83, '1a': 301}, {'0q': 301, '1a': 83}],\n",
       "  'nanswers': 2},\n",
       " {'_id': {'min': 6491, 'max': 29967},\n",
       "  'answers': [{'0q': 29967, '1a': 6491}, {'0q': 6491, '1a': 29967}],\n",
       "  'nanswers': 2},\n",
       " {'_id': {'min': 22112, 'max': ''},\n",
       "  'answers': [{'0q': '', '1a': 22112}, {'0q': 22112, '1a': ''}],\n",
       "  'nanswers': 2},\n",
       " {'_id': {'min': 24, 'max': 19610},\n",
       "  'answers': [{'0q': 24, '1a': 19610}, {'0q': 19610, '1a': 24}],\n",
       "  'nanswers': 2}]"
      ]
     },
     "execution_count": 56,
     "metadata": {},
     "output_type": "execute_result"
    }
   ],
   "source": [
    "rq4_agg_req = requests.get(\"https://na2dey56vh.execute-api.us-east-1.amazonaws.com/dev/rq4_agg\")\n",
    "data = rq4_agg_req.json()['data']\n",
    "data"
   ]
  },
  {
   "cell_type": "markdown",
   "metadata": {},
   "source": [
    "## Replicación de las consultas de la sesión 2 desde el notebook"
   ]
  },
  {
   "cell_type": "code",
   "execution_count": 34,
   "metadata": {
    "scrolled": false
   },
   "outputs": [
    {
     "data": {
      "text/plain": [
       "Database(MongoClient(host=['ec2-3-82-61-111.compute-1.amazonaws.com:27017'], document_class=dict, tz_aware=False, connect=True), 'stackoverflow')"
      ]
     },
     "execution_count": 34,
     "metadata": {},
     "output_type": "execute_result"
    }
   ],
   "source": [
    "client = MongoClient(\"ec2-3-82-61-111.compute-1.amazonaws.com\",27017)\n",
    "client\n",
    "\n",
    "db = client.stackoverflow\n",
    "db = client['stackoverflow']\n",
    "db"
   ]
  },
  {
   "cell_type": "markdown",
   "metadata": {},
   "source": [
    "### RQ1\n",
    "#### Framework de agregación"
   ]
  },
  {
   "cell_type": "code",
   "execution_count": 69,
   "metadata": {
    "scrolled": false
   },
   "outputs": [],
   "source": [
    "def rq1_agg ():\n",
    "    dataRQ1 = db.users.aggregate( [\n",
    "            {'$lookup': {\n",
    "                'from': 'posts',\n",
    "                'localField' : 'Id',\n",
    "                'foreignField' : 'OwnerUserId',\n",
    "                'as': 'posts'}\n",
    "            },\n",
    "            {'$project' : {\n",
    "                'Id' : True,\n",
    "                'posts': {\n",
    "                    '$filter' : {\n",
    "                       'input' : '$posts',\n",
    "                       'as' : 'post',\n",
    "                       'cond' : { '$eq': ['$$post.PostTypeId', 1] }\n",
    "                }}\n",
    "            }},\n",
    "            {'$project' : {\n",
    "                'Id' : True,\n",
    "                'postsCount': { '$size' : '$posts'}\n",
    "            }},\n",
    "            {'$group' : {\n",
    "                '_id' : '$postsCount',\n",
    "                'usersCount': { '$sum' : 1 }\n",
    "            }},\n",
    "            {'$sort' :  { '_id' : -1 } }\n",
    "    ])\n",
    "    data = list(dataRQ1)\n",
    "    return data"
   ]
  },
  {
   "cell_type": "markdown",
   "metadata": {},
   "source": [
    "#### Map-Reduce"
   ]
  },
  {
   "cell_type": "code",
   "execution_count": 70,
   "metadata": {
    "scrolled": false
   },
   "outputs": [],
   "source": [
    "def rq1_mapred ():\n",
    "    rq1_map = Code(\"\"\"\n",
    "    function () {\n",
    "        if (this.PostTypeId == 1) {\n",
    "            emit(this.OwnerUserId, 1);\n",
    "        }\n",
    "    }\n",
    "    \"\"\")\n",
    "\n",
    "    rq1_reduce = Code(\n",
    "    '''\n",
    "    function (key, values)\n",
    "    {\n",
    "        return Array.sum(values);\n",
    "    }\n",
    "    ''')\n",
    "\n",
    "    db.posts.map_reduce(rq1_map, rq1_reduce, out='rq1')\n",
    "\n",
    "    rq1_map2 = Code(\"\"\"\n",
    "    function () {\n",
    "        emit(this.Id, 0);\n",
    "    }\n",
    "    \"\"\")\n",
    "\n",
    "    rq1_reduce2 = Code(\"\"\"\n",
    "    function (key, values) {\n",
    "        return Array.sum(values);\n",
    "    }\n",
    "    \"\"\")\n",
    "\n",
    "    db.users.map_reduce(rq1_map2, rq1_reduce2, out={'reduce' : 'rq1'})\n",
    "\n",
    "    data = list(db.rq1.find())\n",
    "    return data"
   ]
  },
  {
   "cell_type": "markdown",
   "metadata": {},
   "source": [
    "### RQ2\n",
    "#### Framework de agregación"
   ]
  },
  {
   "cell_type": "code",
   "execution_count": 82,
   "metadata": {
    "scrolled": false
   },
   "outputs": [],
   "source": [
    "def rq2_agg():    \n",
    "    dataRQ2 = db.users.aggregate( [\n",
    "            {'$lookup': {\n",
    "                'from': 'posts',\n",
    "                'localField' : 'Id',\n",
    "                'foreignField' : 'OwnerUserId',\n",
    "                'as': 'posts'}\n",
    "            },\n",
    "            {'$project' : {\n",
    "                'Id' : True,\n",
    "                'answers': {\n",
    "                    '$filter' : {\n",
    "                       'input' : '$posts',\n",
    "                       'as' : 'post',\n",
    "                       'cond' : { '$eq': ['$$post.PostTypeId', 2] }\n",
    "                }}\n",
    "            }},\n",
    "            {'$project' : {\n",
    "                'Id' : True,\n",
    "                'ansCount': { '$size' : '$answers'}\n",
    "            }},\n",
    "            {'$group' : {\n",
    "                '_id' : '$ansCount',\n",
    "                'usersCount': { '$sum' : 1 }\n",
    "            }},\n",
    "            {'$sort' :  { '_id' : -1 } }\n",
    "    ])\n",
    "    data = list(dataRQ2)\n",
    "    return data"
   ]
  },
  {
   "cell_type": "markdown",
   "metadata": {},
   "source": [
    "#### Map-Reduce"
   ]
  },
  {
   "cell_type": "code",
   "execution_count": 83,
   "metadata": {
    "scrolled": false
   },
   "outputs": [],
   "source": [
    "def rq2_mapred():\n",
    "    rq2_map = Code(\"\"\"\n",
    "    function () {\n",
    "        if (this.PostTypeId == 2) {\n",
    "            emit(this.OwnerUserId, 1);\n",
    "        }\n",
    "    }\n",
    "    \"\"\")\n",
    "\n",
    "    rq2_reduce = Code(\n",
    "    '''\n",
    "    function (key, values)\n",
    "    {\n",
    "        return Array.sum(values);\n",
    "    }\n",
    "    ''')\n",
    "\n",
    "    db.posts.map_reduce(rq2_map, rq2_reduce, out='rq2')\n",
    "\n",
    "    rq2_map2 = Code(\"\"\"\n",
    "    function () {\n",
    "        emit(this.Id, 0);\n",
    "    }\n",
    "    \"\"\")\n",
    "\n",
    "    rq2_reduce2 = Code(\"\"\"\n",
    "    function (key, values) {\n",
    "        return Array.sum(values);\n",
    "    }\n",
    "    \"\"\")\n",
    "\n",
    "    db.users.map_reduce(rq2_map2, rq2_reduce2, out={'reduce' : 'rq2'})\n",
    "\n",
    "    rq2MR = db.rq2.find()\n",
    "    data = list(rq2MR)\n",
    "    return data"
   ]
  },
  {
   "cell_type": "markdown",
   "metadata": {},
   "source": [
    "### RQ3\n",
    "#### Framework de agregación"
   ]
  },
  {
   "cell_type": "code",
   "execution_count": 84,
   "metadata": {
    "scrolled": false
   },
   "outputs": [],
   "source": [
    "def rq3_agg():\n",
    "    dataRQ3 = db.users.aggregate( [\n",
    "            {'$lookup': {\n",
    "                'from': 'posts',\n",
    "                'localField' : 'Id',\n",
    "                'foreignField' : 'OwnerUserId',\n",
    "                'as': 'posts'}\n",
    "            },\n",
    "            {'$project' : {\n",
    "                'Id' : True,\n",
    "                'posts': {\n",
    "                    '$filter' : {\n",
    "                       'input' : '$posts',\n",
    "                       'as' : 'post',\n",
    "                       'cond' : { '$eq': ['$$post.PostTypeId', 1] }\n",
    "                }},\n",
    "                'answers': {\n",
    "                    '$filter' : {\n",
    "                       'input' : '$posts',\n",
    "                       'as' : 'post',\n",
    "                       'cond' : { '$eq': ['$$post.PostTypeId', 2] }\n",
    "                }}\n",
    "            }},\n",
    "            {'$project' : {\n",
    "                'postsCount': { '$size' : '$posts'},\n",
    "                'ansCount': { '$size' : '$answers'}\n",
    "\n",
    "            }}\n",
    "    ])\n",
    "    data = list(dataRQ3)\n",
    "    return data"
   ]
  },
  {
   "cell_type": "markdown",
   "metadata": {},
   "source": [
    "#### Map-Reduce"
   ]
  },
  {
   "cell_type": "code",
   "execution_count": 85,
   "metadata": {
    "scrolled": false
   },
   "outputs": [],
   "source": [
    "def rq3_mapred():\n",
    "    rq3_map = Code(\"\"\"\n",
    "    function () {\n",
    "        object = {\n",
    "            questions: 0,\n",
    "            answers: 0\n",
    "        };    \n",
    "        if (this.PostTypeId == 2) {\n",
    "            object.answers = 1;\n",
    "            object.questions = 0;\n",
    "        } else if (this.PostTypeId == 1) {\n",
    "            object.questions = 1;\n",
    "            object.answers = 0;\n",
    "        }\n",
    "        emit(this.OwnerUserId, object);\n",
    "    }\n",
    "    \"\"\")\n",
    "\n",
    "    rq3_reduce = Code(\n",
    "    '''\n",
    "    function (key, values)\n",
    "    {\n",
    "        questions = 0;\n",
    "        answers = 0;\n",
    "        for(i = 0; i<values.length; i++) {\n",
    "            questions += values[i].questions;\n",
    "            answers += values[i].answers;\n",
    "        }\n",
    "        return {questions, answers};\n",
    "    }\n",
    "    ''')\n",
    "\n",
    "    db.posts.map_reduce(rq3_map, rq3_reduce, out='rq3')\n",
    "\n",
    "    rq3_map2 = Code(\"\"\"\n",
    "    function () {\n",
    "        object = {\n",
    "            questions: 0,\n",
    "            answers: 0\n",
    "        };\n",
    "        emit(this.Id, object);\n",
    "    }\n",
    "    \"\"\")\n",
    "\n",
    "    rq3_reduce2 = Code(\"\"\"\n",
    "    function (key, values)\n",
    "    {\n",
    "        questions = 0;\n",
    "        answers = 0;\n",
    "        for(i = 0; i<values.length; i++) {\n",
    "            questions += values[i].questions;\n",
    "            answers += values[i].answers;\n",
    "        }\n",
    "        return {questions, answers};\n",
    "    }\n",
    "    \"\"\")\n",
    "\n",
    "    db.users.map_reduce(rq3_map2, rq3_reduce2, out={'reduce' : 'rq3'})\n",
    "    data = list(db.rq3.find())\n",
    "    return data"
   ]
  },
  {
   "cell_type": "markdown",
   "metadata": {},
   "source": [
    "### RQ4\n",
    "#### Framework de agregación"
   ]
  },
  {
   "cell_type": "code",
   "execution_count": 93,
   "metadata": {
    "scrolled": false
   },
   "outputs": [],
   "source": [
    "def rq4_agg():\n",
    "    RQ4 = db.posts.aggregate( [\n",
    "            {'$match': { 'AcceptedAnswerId' : {'$ne': ''}}},\n",
    "            {'$lookup': {\n",
    "                'from': \"posts\", \n",
    "                'localField': \"AcceptedAnswerId\",\n",
    "                'foreignField': \"Id\",\n",
    "                'as': \"answer\"}\n",
    "            },\n",
    "            { \n",
    "                '$unwind' : '$answer'\n",
    "            },\n",
    "            {\n",
    "                '$project' : { 'OwnerUserId': True, \n",
    "                               'answerer' : '$answer.OwnerUserId'\n",
    "                             }\n",
    "            },\n",
    "            {\n",
    "                '$group' : {'_id' : {'min' : { '$min' : ['$OwnerUserId' , '$answerer'] },\n",
    "                                     'max' : { '$max' : ['$OwnerUserId' , '$answerer'] }},\n",
    "                            'answers' : {'$addToSet' : { '0q':'$OwnerUserId', '1a': '$answerer'}}\n",
    "                            }\n",
    "            },\n",
    "            {\n",
    "                '$project': {\n",
    "                    'answers' : True,\n",
    "                    'nanswers' : { '$size' : '$answers'}\n",
    "                }\n",
    "            },\n",
    "            {\n",
    "                '$match' : { 'nanswers' : { '$eq' : 2}}\n",
    "            }\n",
    "        ])\n",
    "    data = list(RQ4)\n",
    "    return data"
   ]
  },
  {
   "cell_type": "markdown",
   "metadata": {},
   "source": [
    "## Comparativa entre la ejecución del código en AWS Lambda frente al notebook"
   ]
  },
  {
   "cell_type": "code",
   "execution_count": 112,
   "metadata": {
    "scrolled": true
   },
   "outputs": [
    {
     "data": {
      "text/html": [
       "<div>\n",
       "<style scoped>\n",
       "    .dataframe tbody tr th:only-of-type {\n",
       "        vertical-align: middle;\n",
       "    }\n",
       "\n",
       "    .dataframe tbody tr th {\n",
       "        vertical-align: top;\n",
       "    }\n",
       "\n",
       "    .dataframe thead th {\n",
       "        text-align: right;\n",
       "    }\n",
       "</style>\n",
       "<table border=\"1\" class=\"dataframe\">\n",
       "  <thead>\n",
       "    <tr style=\"text-align: right;\">\n",
       "      <th></th>\n",
       "      <th>awstime</th>\n",
       "      <th>awsquerytime</th>\n",
       "      <th>localtime</th>\n",
       "    </tr>\n",
       "  </thead>\n",
       "  <tbody>\n",
       "    <tr>\n",
       "      <th>rq1_agg</th>\n",
       "      <td>3.634432</td>\n",
       "      <td>4.185701</td>\n",
       "      <td>3.746500</td>\n",
       "    </tr>\n",
       "    <tr>\n",
       "      <th>rq1_mapred</th>\n",
       "      <td>5.327854</td>\n",
       "      <td>8.525230</td>\n",
       "      <td>8.373794</td>\n",
       "    </tr>\n",
       "    <tr>\n",
       "      <th>rq2_agg</th>\n",
       "      <td>3.503671</td>\n",
       "      <td>3.943997</td>\n",
       "      <td>3.733081</td>\n",
       "    </tr>\n",
       "    <tr>\n",
       "      <th>rq2_mapred</th>\n",
       "      <td>5.011377</td>\n",
       "      <td>8.576768</td>\n",
       "      <td>6.940919</td>\n",
       "    </tr>\n",
       "    <tr>\n",
       "      <th>rq3_agg</th>\n",
       "      <td>4.657880</td>\n",
       "      <td>10.310754</td>\n",
       "      <td>17.392957</td>\n",
       "    </tr>\n",
       "    <tr>\n",
       "      <th>rq3_mapred</th>\n",
       "      <td>7.457691</td>\n",
       "      <td>13.132879</td>\n",
       "      <td>10.364341</td>\n",
       "    </tr>\n",
       "    <tr>\n",
       "      <th>rq4_agg</th>\n",
       "      <td>1.200995</td>\n",
       "      <td>1.749872</td>\n",
       "      <td>1.302709</td>\n",
       "    </tr>\n",
       "  </tbody>\n",
       "</table>\n",
       "</div>"
      ],
      "text/plain": [
       "             awstime  awsquerytime  localtime\n",
       "rq1_agg     3.634432      4.185701   3.746500\n",
       "rq1_mapred  5.327854      8.525230   8.373794\n",
       "rq2_agg     3.503671      3.943997   3.733081\n",
       "rq2_mapred  5.011377      8.576768   6.940919\n",
       "rq3_agg     4.657880     10.310754  17.392957\n",
       "rq3_mapred  7.457691     13.132879  10.364341\n",
       "rq4_agg     1.200995      1.749872   1.302709"
      ]
     },
     "execution_count": 112,
     "metadata": {},
     "output_type": "execute_result"
    }
   ],
   "source": [
    "queries = [\"rq1_agg\", \"rq1_mapred\", \"rq2_agg\", \"rq2_mapred\", \"rq3_agg\", \"rq3_mapred\", \"rq4_agg\"]\n",
    "\n",
    "awstime = []\n",
    "awsquerytime = []\n",
    "localtime = []\n",
    "\n",
    "for q in queries:\n",
    "    \n",
    "    start_time = timeit.default_timer()\n",
    "    req_body = requests.get(\"https://na2dey56vh.execute-api.us-east-1.amazonaws.com/dev/{}\".format(q)).json()\n",
    "    awsreqtime = timeit.default_timer() - start_time\n",
    "    awsquerytime.append(awsreqtime)\n",
    "    \n",
    "    awstime.append(req_body['elapsedTime'])\n",
    "    \n",
    "    start_time = timeit.default_timer()\n",
    "    locals()[q]()\n",
    "    loctime = timeit.default_timer() - start_time\n",
    "    localtime.append(loctime)\n",
    "    \n",
    "d = {'awstime': awstime, 'awsquerytime': awsquerytime, \"localtime\": localtime}\n",
    "df = pd.DataFrame(d)\n",
    "df.index = queries\n",
    "df"
   ]
  },
  {
   "cell_type": "code",
   "execution_count": 113,
   "metadata": {
    "scrolled": true
   },
   "outputs": [
    {
     "data": {
      "image/png": "[encoded data removed]",
      "text/plain": [
       "<Figure size 1440x720 with 1 Axes>"
      ]
     },
     "metadata": {},
     "output_type": "display_data"
    }
   ],
   "source": [
    "N = df.shape[0]\n",
    "\n",
    "fig, ax = plt.subplots()\n",
    "fig.set_figwidth(20)\n",
    "fig.set_figheight(10)\n",
    "\n",
    "ind = np.arange(N)    # the x locations for the groups\n",
    "width = 0.2         # the width of the bars\n",
    "\n",
    "p1 = ax.bar(ind, df['awstime'], width, color='r', bottom=0)\n",
    "p2 = ax.bar(ind + width, df['awsquerytime'], width, color='y', bottom=0)\n",
    "p3 = ax.bar(ind + 2*width, df['localtime'], width, color='b', bottom=0)\n",
    "\n",
    "ax.set_title('Elapsed time comparative')\n",
    "ax.set_xticks(ind + 2*width / 2)\n",
    "ax.set_xticklabels(queries)\n",
    "\n",
    "ax.legend((p1[0], p2[0], p3[0]), ('awstime', 'awsquerytime', 'localtime'))\n",
    "\n",
    "plt.show()"
   ]
  }
 ],
 "metadata": {
  "kernelspec": {
   "display_name": "Python 3",
   "language": "python",
   "name": "python3"
  },
  "language_info": {
   "codemirror_mode": {
    "name": "ipython",
    "version": 3
   },
   "file_extension": ".py",
   "mimetype": "text/x-python",
   "name": "python",
   "nbconvert_exporter": "python",
   "pygments_lexer": "ipython3",
   "version": "3.6.6"
  }
 },
 "nbformat": 4,
 "nbformat_minor": 1
}
